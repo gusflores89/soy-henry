{
 "cells": [
  {
   "cell_type": "code",
   "execution_count": 1,
   "id": "0e27588f",
   "metadata": {},
   "outputs": [],
   "source": [
    "import pymysql\n",
    "import pandas as pd\n",
    "from datetime import datetime"
   ]
  },
  {
   "cell_type": "markdown",
   "id": "ab568927",
   "metadata": {},
   "source": [
    "https://data.buenosaires.gob.ar/dataset/sube/resource/b88f4c3d-325d-4397-93ff-c54657357092"
   ]
  },
  {
   "cell_type": "code",
   "execution_count": 2,
   "id": "e22c89aa",
   "metadata": {},
   "outputs": [],
   "source": [
    "url = 'https://cdn.buenosaires.gob.ar/datosabiertos/datasets/transporte-y-obras-publicas/sube/dataset_viajes_sube.csv'"
   ]
  },
  {
   "cell_type": "code",
   "execution_count": 3,
   "id": "07db0459",
   "metadata": {},
   "outputs": [],
   "source": [
    "transporte = pd.read_csv(url)"
   ]
  },
  {
   "cell_type": "code",
   "execution_count": 4,
   "id": "04c45035",
   "metadata": {},
   "outputs": [
    {
     "data": {
      "text/html": [
       "<div>\n",
       "<style scoped>\n",
       "    .dataframe tbody tr th:only-of-type {\n",
       "        vertical-align: middle;\n",
       "    }\n",
       "\n",
       "    .dataframe tbody tr th {\n",
       "        vertical-align: top;\n",
       "    }\n",
       "\n",
       "    .dataframe thead th {\n",
       "        text-align: right;\n",
       "    }\n",
       "</style>\n",
       "<table border=\"1\" class=\"dataframe\">\n",
       "  <thead>\n",
       "    <tr style=\"text-align: right;\">\n",
       "      <th></th>\n",
       "      <th>TIPO_TRANSPORTE</th>\n",
       "      <th>DIA</th>\n",
       "      <th>PARCIAL</th>\n",
       "      <th>CANTIDAD</th>\n",
       "    </tr>\n",
       "  </thead>\n",
       "  <tbody>\n",
       "    <tr>\n",
       "      <th>0</th>\n",
       "      <td>Subte</td>\n",
       "      <td>31MAR2020:00:00:00</td>\n",
       "      <td>NaN</td>\n",
       "      <td>NaN</td>\n",
       "    </tr>\n",
       "    <tr>\n",
       "      <th>1</th>\n",
       "      <td>Subte</td>\n",
       "      <td>01APR2020:00:00:00</td>\n",
       "      <td>NaN</td>\n",
       "      <td>NaN</td>\n",
       "    </tr>\n",
       "    <tr>\n",
       "      <th>2</th>\n",
       "      <td>Subte</td>\n",
       "      <td>02APR2020:00:00:00</td>\n",
       "      <td>NaN</td>\n",
       "      <td>NaN</td>\n",
       "    </tr>\n",
       "    <tr>\n",
       "      <th>3</th>\n",
       "      <td>Subte</td>\n",
       "      <td>03APR2020:00:00:00</td>\n",
       "      <td>NaN</td>\n",
       "      <td>NaN</td>\n",
       "    </tr>\n",
       "    <tr>\n",
       "      <th>4</th>\n",
       "      <td>Subte</td>\n",
       "      <td>04APR2020:00:00:00</td>\n",
       "      <td>NaN</td>\n",
       "      <td>NaN</td>\n",
       "    </tr>\n",
       "    <tr>\n",
       "      <th>...</th>\n",
       "      <td>...</td>\n",
       "      <td>...</td>\n",
       "      <td>...</td>\n",
       "      <td>...</td>\n",
       "    </tr>\n",
       "    <tr>\n",
       "      <th>1873</th>\n",
       "      <td>Subte</td>\n",
       "      <td>25SEP2021:00:00:00</td>\n",
       "      <td>True</td>\n",
       "      <td>230834.0</td>\n",
       "    </tr>\n",
       "    <tr>\n",
       "      <th>1874</th>\n",
       "      <td>Subte</td>\n",
       "      <td>26SEP2021:00:00:00</td>\n",
       "      <td>True</td>\n",
       "      <td>133714.0</td>\n",
       "    </tr>\n",
       "    <tr>\n",
       "      <th>1875</th>\n",
       "      <td>Tren</td>\n",
       "      <td>25SEP2021:00:00:00</td>\n",
       "      <td>False</td>\n",
       "      <td>516037.0</td>\n",
       "    </tr>\n",
       "    <tr>\n",
       "      <th>1876</th>\n",
       "      <td>Tren</td>\n",
       "      <td>26SEP2021:00:00:00</td>\n",
       "      <td>False</td>\n",
       "      <td>239172.0</td>\n",
       "    </tr>\n",
       "    <tr>\n",
       "      <th>1877</th>\n",
       "      <td>Tren</td>\n",
       "      <td>27SEP2021:00:00:00</td>\n",
       "      <td>True</td>\n",
       "      <td>829845.0</td>\n",
       "    </tr>\n",
       "  </tbody>\n",
       "</table>\n",
       "<p>1878 rows × 4 columns</p>\n",
       "</div>"
      ],
      "text/plain": [
       "     TIPO_TRANSPORTE                 DIA PARCIAL  CANTIDAD\n",
       "0              Subte  31MAR2020:00:00:00     NaN       NaN\n",
       "1              Subte  01APR2020:00:00:00     NaN       NaN\n",
       "2              Subte  02APR2020:00:00:00     NaN       NaN\n",
       "3              Subte  03APR2020:00:00:00     NaN       NaN\n",
       "4              Subte  04APR2020:00:00:00     NaN       NaN\n",
       "...              ...                 ...     ...       ...\n",
       "1873           Subte  25SEP2021:00:00:00    True  230834.0\n",
       "1874           Subte  26SEP2021:00:00:00    True  133714.0\n",
       "1875            Tren  25SEP2021:00:00:00   False  516037.0\n",
       "1876            Tren  26SEP2021:00:00:00   False  239172.0\n",
       "1877            Tren  27SEP2021:00:00:00    True  829845.0\n",
       "\n",
       "[1878 rows x 4 columns]"
      ]
     },
     "execution_count": 4,
     "metadata": {},
     "output_type": "execute_result"
    }
   ],
   "source": [
    "transporte"
   ]
  },
  {
   "cell_type": "code",
   "execution_count": 5,
   "id": "9ffaccf3",
   "metadata": {},
   "outputs": [
    {
     "name": "stdout",
     "output_type": "stream",
     "text": [
      "<class 'pandas.core.frame.DataFrame'>\n",
      "RangeIndex: 1878 entries, 0 to 1877\n",
      "Data columns (total 4 columns):\n",
      " #   Column           Non-Null Count  Dtype  \n",
      "---  ------           --------------  -----  \n",
      " 0   TIPO_TRANSPORTE  1878 non-null   object \n",
      " 1   DIA              1878 non-null   object \n",
      " 2   PARCIAL          996 non-null    object \n",
      " 3   CANTIDAD         996 non-null    float64\n",
      "dtypes: float64(1), object(3)\n",
      "memory usage: 58.8+ KB\n"
     ]
    }
   ],
   "source": [
    "transporte.info()"
   ]
  },
  {
   "cell_type": "code",
   "execution_count": 6,
   "id": "11ac0eb5",
   "metadata": {},
   "outputs": [],
   "source": [
    "transporte = transporte.loc[transporte['CANTIDAD'].notna()]"
   ]
  },
  {
   "cell_type": "code",
   "execution_count": 7,
   "id": "7aa5e381",
   "metadata": {},
   "outputs": [
    {
     "name": "stdout",
     "output_type": "stream",
     "text": [
      "<class 'pandas.core.frame.DataFrame'>\n",
      "Int64Index: 996 entries, 166 to 1877\n",
      "Data columns (total 4 columns):\n",
      " #   Column           Non-Null Count  Dtype  \n",
      "---  ------           --------------  -----  \n",
      " 0   TIPO_TRANSPORTE  996 non-null    object \n",
      " 1   DIA              996 non-null    object \n",
      " 2   PARCIAL          996 non-null    object \n",
      " 3   CANTIDAD         996 non-null    float64\n",
      "dtypes: float64(1), object(3)\n",
      "memory usage: 38.9+ KB\n"
     ]
    }
   ],
   "source": [
    "transporte.info()"
   ]
  },
  {
   "cell_type": "code",
   "execution_count": 8,
   "id": "87383eeb",
   "metadata": {},
   "outputs": [],
   "source": [
    "transporte = transporte.rename(str.lower, axis='columns')"
   ]
  },
  {
   "cell_type": "code",
   "execution_count": 9,
   "id": "6f6c7676",
   "metadata": {},
   "outputs": [
    {
     "data": {
      "text/html": [
       "<div>\n",
       "<style scoped>\n",
       "    .dataframe tbody tr th:only-of-type {\n",
       "        vertical-align: middle;\n",
       "    }\n",
       "\n",
       "    .dataframe tbody tr th {\n",
       "        vertical-align: top;\n",
       "    }\n",
       "\n",
       "    .dataframe thead th {\n",
       "        text-align: right;\n",
       "    }\n",
       "</style>\n",
       "<table border=\"1\" class=\"dataframe\">\n",
       "  <thead>\n",
       "    <tr style=\"text-align: right;\">\n",
       "      <th></th>\n",
       "      <th>tipo_transporte</th>\n",
       "      <th>dia</th>\n",
       "      <th>parcial</th>\n",
       "      <th>cantidad</th>\n",
       "    </tr>\n",
       "  </thead>\n",
       "  <tbody>\n",
       "    <tr>\n",
       "      <th>166</th>\n",
       "      <td>Colectivo</td>\n",
       "      <td>04MAR2021:00:00:00</td>\n",
       "      <td>False</td>\n",
       "      <td>2914400.0</td>\n",
       "    </tr>\n",
       "    <tr>\n",
       "      <th>167</th>\n",
       "      <td>Subte</td>\n",
       "      <td>03MAR2021:00:00:00</td>\n",
       "      <td>True</td>\n",
       "      <td>226806.0</td>\n",
       "    </tr>\n",
       "    <tr>\n",
       "      <th>168</th>\n",
       "      <td>Subte</td>\n",
       "      <td>04MAR2021:00:00:00</td>\n",
       "      <td>False</td>\n",
       "      <td>176444.0</td>\n",
       "    </tr>\n",
       "    <tr>\n",
       "      <th>169</th>\n",
       "      <td>Tren</td>\n",
       "      <td>04MAR2021:00:00:00</td>\n",
       "      <td>False</td>\n",
       "      <td>630253.0</td>\n",
       "    </tr>\n",
       "    <tr>\n",
       "      <th>170</th>\n",
       "      <td>Colectivo</td>\n",
       "      <td>17MAR2021:00:00:00</td>\n",
       "      <td>False</td>\n",
       "      <td>2836336.0</td>\n",
       "    </tr>\n",
       "  </tbody>\n",
       "</table>\n",
       "</div>"
      ],
      "text/plain": [
       "    tipo_transporte                 dia parcial   cantidad\n",
       "166       Colectivo  04MAR2021:00:00:00   False  2914400.0\n",
       "167           Subte  03MAR2021:00:00:00    True   226806.0\n",
       "168           Subte  04MAR2021:00:00:00   False   176444.0\n",
       "169            Tren  04MAR2021:00:00:00   False   630253.0\n",
       "170       Colectivo  17MAR2021:00:00:00   False  2836336.0"
      ]
     },
     "execution_count": 9,
     "metadata": {},
     "output_type": "execute_result"
    }
   ],
   "source": [
    "transporte.head()"
   ]
  },
  {
   "cell_type": "code",
   "execution_count": 10,
   "id": "d058f67f",
   "metadata": {},
   "outputs": [],
   "source": [
    "def fechas(df):\n",
    "    lista = df['dia'].to_list()\n",
    "    fechas = []\n",
    "    for i in range(len(lista)):\n",
    "        dia = lista[i][:2]\n",
    "        mes = lista[i][2:5].lower()\n",
    "        anio = lista[i][5:9]\n",
    "        fecha = anio + \"-\" + mes + \"-\" + dia\n",
    "        fecha = datetime.strptime(fecha, \"%Y-%b-%d\")\n",
    "        fechas.append(fecha)\n",
    "    df['dia'] = fechas\n",
    "    return df"
   ]
  },
  {
   "cell_type": "code",
   "execution_count": 11,
   "id": "6098588c",
   "metadata": {},
   "outputs": [
    {
     "data": {
      "text/html": [
       "<div>\n",
       "<style scoped>\n",
       "    .dataframe tbody tr th:only-of-type {\n",
       "        vertical-align: middle;\n",
       "    }\n",
       "\n",
       "    .dataframe tbody tr th {\n",
       "        vertical-align: top;\n",
       "    }\n",
       "\n",
       "    .dataframe thead th {\n",
       "        text-align: right;\n",
       "    }\n",
       "</style>\n",
       "<table border=\"1\" class=\"dataframe\">\n",
       "  <thead>\n",
       "    <tr style=\"text-align: right;\">\n",
       "      <th></th>\n",
       "      <th>tipo_transporte</th>\n",
       "      <th>dia</th>\n",
       "      <th>parcial</th>\n",
       "      <th>cantidad</th>\n",
       "    </tr>\n",
       "  </thead>\n",
       "  <tbody>\n",
       "    <tr>\n",
       "      <th>166</th>\n",
       "      <td>Colectivo</td>\n",
       "      <td>2021-03-04</td>\n",
       "      <td>False</td>\n",
       "      <td>2914400.0</td>\n",
       "    </tr>\n",
       "    <tr>\n",
       "      <th>167</th>\n",
       "      <td>Subte</td>\n",
       "      <td>2021-03-03</td>\n",
       "      <td>True</td>\n",
       "      <td>226806.0</td>\n",
       "    </tr>\n",
       "    <tr>\n",
       "      <th>168</th>\n",
       "      <td>Subte</td>\n",
       "      <td>2021-03-04</td>\n",
       "      <td>False</td>\n",
       "      <td>176444.0</td>\n",
       "    </tr>\n",
       "    <tr>\n",
       "      <th>169</th>\n",
       "      <td>Tren</td>\n",
       "      <td>2021-03-04</td>\n",
       "      <td>False</td>\n",
       "      <td>630253.0</td>\n",
       "    </tr>\n",
       "    <tr>\n",
       "      <th>170</th>\n",
       "      <td>Colectivo</td>\n",
       "      <td>2021-03-17</td>\n",
       "      <td>False</td>\n",
       "      <td>2836336.0</td>\n",
       "    </tr>\n",
       "    <tr>\n",
       "      <th>...</th>\n",
       "      <td>...</td>\n",
       "      <td>...</td>\n",
       "      <td>...</td>\n",
       "      <td>...</td>\n",
       "    </tr>\n",
       "    <tr>\n",
       "      <th>1873</th>\n",
       "      <td>Subte</td>\n",
       "      <td>2021-09-25</td>\n",
       "      <td>True</td>\n",
       "      <td>230834.0</td>\n",
       "    </tr>\n",
       "    <tr>\n",
       "      <th>1874</th>\n",
       "      <td>Subte</td>\n",
       "      <td>2021-09-26</td>\n",
       "      <td>True</td>\n",
       "      <td>133714.0</td>\n",
       "    </tr>\n",
       "    <tr>\n",
       "      <th>1875</th>\n",
       "      <td>Tren</td>\n",
       "      <td>2021-09-25</td>\n",
       "      <td>False</td>\n",
       "      <td>516037.0</td>\n",
       "    </tr>\n",
       "    <tr>\n",
       "      <th>1876</th>\n",
       "      <td>Tren</td>\n",
       "      <td>2021-09-26</td>\n",
       "      <td>False</td>\n",
       "      <td>239172.0</td>\n",
       "    </tr>\n",
       "    <tr>\n",
       "      <th>1877</th>\n",
       "      <td>Tren</td>\n",
       "      <td>2021-09-27</td>\n",
       "      <td>True</td>\n",
       "      <td>829845.0</td>\n",
       "    </tr>\n",
       "  </tbody>\n",
       "</table>\n",
       "<p>996 rows × 4 columns</p>\n",
       "</div>"
      ],
      "text/plain": [
       "     tipo_transporte        dia parcial   cantidad\n",
       "166        Colectivo 2021-03-04   False  2914400.0\n",
       "167            Subte 2021-03-03    True   226806.0\n",
       "168            Subte 2021-03-04   False   176444.0\n",
       "169             Tren 2021-03-04   False   630253.0\n",
       "170        Colectivo 2021-03-17   False  2836336.0\n",
       "...              ...        ...     ...        ...\n",
       "1873           Subte 2021-09-25    True   230834.0\n",
       "1874           Subte 2021-09-26    True   133714.0\n",
       "1875            Tren 2021-09-25   False   516037.0\n",
       "1876            Tren 2021-09-26   False   239172.0\n",
       "1877            Tren 2021-09-27    True   829845.0\n",
       "\n",
       "[996 rows x 4 columns]"
      ]
     },
     "execution_count": 11,
     "metadata": {},
     "output_type": "execute_result"
    }
   ],
   "source": [
    "fechas(transporte)"
   ]
  },
  {
   "cell_type": "code",
   "execution_count": 12,
   "id": "8d1e61c9",
   "metadata": {},
   "outputs": [],
   "source": [
    "transporte = transporte.loc[transporte['parcial'] == False].reset_index(drop=True)"
   ]
  },
  {
   "cell_type": "code",
   "execution_count": 13,
   "id": "6df02e32",
   "metadata": {},
   "outputs": [],
   "source": [
    "transporte = transporte.sort_values('dia')"
   ]
  },
  {
   "cell_type": "code",
   "execution_count": 14,
   "id": "538dd8f3",
   "metadata": {},
   "outputs": [],
   "source": [
    "tipo_transporte = pd.DataFrame(columns=['idTransporte', 'nombreTransporte'])"
   ]
  },
  {
   "cell_type": "code",
   "execution_count": 15,
   "id": "fa56e91c",
   "metadata": {},
   "outputs": [],
   "source": [
    "for idx, val in enumerate(transporte['tipo_transporte'].unique(), start=1):\n",
    "    tipo_transporte.loc[idx] = [idx, val]"
   ]
  },
  {
   "cell_type": "code",
   "execution_count": 16,
   "id": "524bbdc6",
   "metadata": {},
   "outputs": [
    {
     "data": {
      "text/html": [
       "<div>\n",
       "<style scoped>\n",
       "    .dataframe tbody tr th:only-of-type {\n",
       "        vertical-align: middle;\n",
       "    }\n",
       "\n",
       "    .dataframe tbody tr th {\n",
       "        vertical-align: top;\n",
       "    }\n",
       "\n",
       "    .dataframe thead th {\n",
       "        text-align: right;\n",
       "    }\n",
       "</style>\n",
       "<table border=\"1\" class=\"dataframe\">\n",
       "  <thead>\n",
       "    <tr style=\"text-align: right;\">\n",
       "      <th></th>\n",
       "      <th>idTransporte</th>\n",
       "      <th>nombreTransporte</th>\n",
       "    </tr>\n",
       "  </thead>\n",
       "  <tbody>\n",
       "    <tr>\n",
       "      <th>1</th>\n",
       "      <td>1</td>\n",
       "      <td>Tren</td>\n",
       "    </tr>\n",
       "    <tr>\n",
       "      <th>2</th>\n",
       "      <td>2</td>\n",
       "      <td>Colectivo</td>\n",
       "    </tr>\n",
       "    <tr>\n",
       "      <th>3</th>\n",
       "      <td>3</td>\n",
       "      <td>Subte</td>\n",
       "    </tr>\n",
       "  </tbody>\n",
       "</table>\n",
       "</div>"
      ],
      "text/plain": [
       "   idTransporte nombreTransporte\n",
       "1             1             Tren\n",
       "2             2        Colectivo\n",
       "3             3            Subte"
      ]
     },
     "execution_count": 16,
     "metadata": {},
     "output_type": "execute_result"
    }
   ],
   "source": [
    "tipo_transporte"
   ]
  },
  {
   "cell_type": "code",
   "execution_count": 17,
   "id": "fedcd42e",
   "metadata": {},
   "outputs": [],
   "source": [
    "subte = transporte.loc[transporte['tipo_transporte'] == 'Subte']"
   ]
  },
  {
   "cell_type": "code",
   "execution_count": 18,
   "id": "ffb6306f",
   "metadata": {},
   "outputs": [],
   "source": [
    "tren = transporte.loc[transporte['tipo_transporte'] == 'Tren']"
   ]
  },
  {
   "cell_type": "code",
   "execution_count": 19,
   "id": "76208d02",
   "metadata": {},
   "outputs": [],
   "source": [
    "colectivo = transporte.loc[transporte['tipo_transporte'] == 'Colectivo']"
   ]
  },
  {
   "cell_type": "code",
   "execution_count": 20,
   "id": "c1922561",
   "metadata": {},
   "outputs": [
    {
     "data": {
      "text/html": [
       "<div>\n",
       "<style scoped>\n",
       "    .dataframe tbody tr th:only-of-type {\n",
       "        vertical-align: middle;\n",
       "    }\n",
       "\n",
       "    .dataframe tbody tr th {\n",
       "        vertical-align: top;\n",
       "    }\n",
       "\n",
       "    .dataframe thead th {\n",
       "        text-align: right;\n",
       "    }\n",
       "</style>\n",
       "<table border=\"1\" class=\"dataframe\">\n",
       "  <thead>\n",
       "    <tr style=\"text-align: right;\">\n",
       "      <th></th>\n",
       "      <th>tipo_transporte</th>\n",
       "      <th>dia</th>\n",
       "      <th>parcial</th>\n",
       "      <th>cantidad</th>\n",
       "    </tr>\n",
       "  </thead>\n",
       "  <tbody>\n",
       "    <tr>\n",
       "      <th>600</th>\n",
       "      <td>Subte</td>\n",
       "      <td>2020-12-10</td>\n",
       "      <td>False</td>\n",
       "      <td>193289.0</td>\n",
       "    </tr>\n",
       "    <tr>\n",
       "      <th>605</th>\n",
       "      <td>Subte</td>\n",
       "      <td>2020-12-11</td>\n",
       "      <td>False</td>\n",
       "      <td>183398.0</td>\n",
       "    </tr>\n",
       "    <tr>\n",
       "      <th>606</th>\n",
       "      <td>Subte</td>\n",
       "      <td>2020-12-12</td>\n",
       "      <td>False</td>\n",
       "      <td>102781.0</td>\n",
       "    </tr>\n",
       "    <tr>\n",
       "      <th>607</th>\n",
       "      <td>Subte</td>\n",
       "      <td>2020-12-13</td>\n",
       "      <td>False</td>\n",
       "      <td>40472.0</td>\n",
       "    </tr>\n",
       "    <tr>\n",
       "      <th>682</th>\n",
       "      <td>Subte</td>\n",
       "      <td>2020-12-14</td>\n",
       "      <td>False</td>\n",
       "      <td>177083.0</td>\n",
       "    </tr>\n",
       "    <tr>\n",
       "      <th>...</th>\n",
       "      <td>...</td>\n",
       "      <td>...</td>\n",
       "      <td>...</td>\n",
       "      <td>...</td>\n",
       "    </tr>\n",
       "    <tr>\n",
       "      <th>139</th>\n",
       "      <td>Subte</td>\n",
       "      <td>2021-10-14</td>\n",
       "      <td>False</td>\n",
       "      <td>525582.0</td>\n",
       "    </tr>\n",
       "    <tr>\n",
       "      <th>586</th>\n",
       "      <td>Subte</td>\n",
       "      <td>2021-10-15</td>\n",
       "      <td>False</td>\n",
       "      <td>525513.0</td>\n",
       "    </tr>\n",
       "    <tr>\n",
       "      <th>587</th>\n",
       "      <td>Subte</td>\n",
       "      <td>2021-10-16</td>\n",
       "      <td>False</td>\n",
       "      <td>283811.0</td>\n",
       "    </tr>\n",
       "    <tr>\n",
       "      <th>588</th>\n",
       "      <td>Subte</td>\n",
       "      <td>2021-10-17</td>\n",
       "      <td>False</td>\n",
       "      <td>163059.0</td>\n",
       "    </tr>\n",
       "    <tr>\n",
       "      <th>593</th>\n",
       "      <td>Subte</td>\n",
       "      <td>2021-10-18</td>\n",
       "      <td>False</td>\n",
       "      <td>508730.0</td>\n",
       "    </tr>\n",
       "  </tbody>\n",
       "</table>\n",
       "<p>143 rows × 4 columns</p>\n",
       "</div>"
      ],
      "text/plain": [
       "    tipo_transporte        dia parcial  cantidad\n",
       "600           Subte 2020-12-10   False  193289.0\n",
       "605           Subte 2020-12-11   False  183398.0\n",
       "606           Subte 2020-12-12   False  102781.0\n",
       "607           Subte 2020-12-13   False   40472.0\n",
       "682           Subte 2020-12-14   False  177083.0\n",
       "..              ...        ...     ...       ...\n",
       "139           Subte 2021-10-14   False  525582.0\n",
       "586           Subte 2021-10-15   False  525513.0\n",
       "587           Subte 2021-10-16   False  283811.0\n",
       "588           Subte 2021-10-17   False  163059.0\n",
       "593           Subte 2021-10-18   False  508730.0\n",
       "\n",
       "[143 rows x 4 columns]"
      ]
     },
     "execution_count": 20,
     "metadata": {},
     "output_type": "execute_result"
    }
   ],
   "source": [
    "subte"
   ]
  },
  {
   "cell_type": "code",
   "execution_count": 21,
   "id": "16e03df9",
   "metadata": {},
   "outputs": [
    {
     "data": {
      "text/plain": [
       "Index(['tipo_transporte', 'dia', 'parcial', 'cantidad'], dtype='object')"
      ]
     },
     "execution_count": 21,
     "metadata": {},
     "output_type": "execute_result"
    }
   ],
   "source": [
    "transporte.columns"
   ]
  },
  {
   "cell_type": "code",
   "execution_count": 22,
   "id": "ffa9fa44",
   "metadata": {},
   "outputs": [],
   "source": [
    "columnas = ['dia', 'tipo_transporte', 'cantidad']"
   ]
  },
  {
   "cell_type": "code",
   "execution_count": 23,
   "id": "1ed8743b",
   "metadata": {},
   "outputs": [],
   "source": [
    "subte = subte[columnas].reset_index(drop=True)"
   ]
  },
  {
   "cell_type": "code",
   "execution_count": 24,
   "id": "94afa8eb",
   "metadata": {},
   "outputs": [],
   "source": [
    "tren = tren[columnas].reset_index(drop=True)"
   ]
  },
  {
   "cell_type": "code",
   "execution_count": 25,
   "id": "813093b7",
   "metadata": {},
   "outputs": [],
   "source": [
    "colectivo = colectivo[columnas].reset_index(drop=True)"
   ]
  },
  {
   "cell_type": "code",
   "execution_count": 26,
   "id": "37d7328d",
   "metadata": {},
   "outputs": [
    {
     "data": {
      "text/html": [
       "<div>\n",
       "<style scoped>\n",
       "    .dataframe tbody tr th:only-of-type {\n",
       "        vertical-align: middle;\n",
       "    }\n",
       "\n",
       "    .dataframe tbody tr th {\n",
       "        vertical-align: top;\n",
       "    }\n",
       "\n",
       "    .dataframe thead th {\n",
       "        text-align: right;\n",
       "    }\n",
       "</style>\n",
       "<table border=\"1\" class=\"dataframe\">\n",
       "  <thead>\n",
       "    <tr style=\"text-align: right;\">\n",
       "      <th></th>\n",
       "      <th>dia</th>\n",
       "      <th>tipo_transporte</th>\n",
       "      <th>cantidad</th>\n",
       "    </tr>\n",
       "  </thead>\n",
       "  <tbody>\n",
       "    <tr>\n",
       "      <th>0</th>\n",
       "      <td>2020-11-25</td>\n",
       "      <td>Colectivo</td>\n",
       "      <td>1995409.0</td>\n",
       "    </tr>\n",
       "    <tr>\n",
       "      <th>1</th>\n",
       "      <td>2020-11-27</td>\n",
       "      <td>Colectivo</td>\n",
       "      <td>2285206.0</td>\n",
       "    </tr>\n",
       "    <tr>\n",
       "      <th>2</th>\n",
       "      <td>2020-12-02</td>\n",
       "      <td>Colectivo</td>\n",
       "      <td>2216133.0</td>\n",
       "    </tr>\n",
       "    <tr>\n",
       "      <th>3</th>\n",
       "      <td>2020-12-05</td>\n",
       "      <td>Colectivo</td>\n",
       "      <td>1775955.0</td>\n",
       "    </tr>\n",
       "    <tr>\n",
       "      <th>4</th>\n",
       "      <td>2020-12-06</td>\n",
       "      <td>Colectivo</td>\n",
       "      <td>1019610.0</td>\n",
       "    </tr>\n",
       "    <tr>\n",
       "      <th>...</th>\n",
       "      <td>...</td>\n",
       "      <td>...</td>\n",
       "      <td>...</td>\n",
       "    </tr>\n",
       "    <tr>\n",
       "      <th>313</th>\n",
       "      <td>2021-10-15</td>\n",
       "      <td>Colectivo</td>\n",
       "      <td>4021969.0</td>\n",
       "    </tr>\n",
       "    <tr>\n",
       "      <th>314</th>\n",
       "      <td>2021-10-16</td>\n",
       "      <td>Colectivo</td>\n",
       "      <td>2568445.0</td>\n",
       "    </tr>\n",
       "    <tr>\n",
       "      <th>315</th>\n",
       "      <td>2021-10-17</td>\n",
       "      <td>Colectivo</td>\n",
       "      <td>1562568.0</td>\n",
       "    </tr>\n",
       "    <tr>\n",
       "      <th>316</th>\n",
       "      <td>2021-10-18</td>\n",
       "      <td>Colectivo</td>\n",
       "      <td>3615212.0</td>\n",
       "    </tr>\n",
       "    <tr>\n",
       "      <th>317</th>\n",
       "      <td>2021-10-19</td>\n",
       "      <td>Colectivo</td>\n",
       "      <td>3829389.0</td>\n",
       "    </tr>\n",
       "  </tbody>\n",
       "</table>\n",
       "<p>318 rows × 3 columns</p>\n",
       "</div>"
      ],
      "text/plain": [
       "           dia tipo_transporte   cantidad\n",
       "0   2020-11-25       Colectivo  1995409.0\n",
       "1   2020-11-27       Colectivo  2285206.0\n",
       "2   2020-12-02       Colectivo  2216133.0\n",
       "3   2020-12-05       Colectivo  1775955.0\n",
       "4   2020-12-06       Colectivo  1019610.0\n",
       "..         ...             ...        ...\n",
       "313 2021-10-15       Colectivo  4021969.0\n",
       "314 2021-10-16       Colectivo  2568445.0\n",
       "315 2021-10-17       Colectivo  1562568.0\n",
       "316 2021-10-18       Colectivo  3615212.0\n",
       "317 2021-10-19       Colectivo  3829389.0\n",
       "\n",
       "[318 rows x 3 columns]"
      ]
     },
     "execution_count": 26,
     "metadata": {},
     "output_type": "execute_result"
    }
   ],
   "source": [
    "colectivo"
   ]
  },
  {
   "cell_type": "code",
   "execution_count": 27,
   "id": "025b13cc",
   "metadata": {},
   "outputs": [],
   "source": [
    "subte['tipo_transporte'] = tipo_transporte['idTransporte'].loc[tipo_transporte['nombreTransporte'] == 'Subte'].values[0]"
   ]
  },
  {
   "cell_type": "code",
   "execution_count": 28,
   "id": "537c1c25",
   "metadata": {},
   "outputs": [
    {
     "data": {
      "text/html": [
       "<div>\n",
       "<style scoped>\n",
       "    .dataframe tbody tr th:only-of-type {\n",
       "        vertical-align: middle;\n",
       "    }\n",
       "\n",
       "    .dataframe tbody tr th {\n",
       "        vertical-align: top;\n",
       "    }\n",
       "\n",
       "    .dataframe thead th {\n",
       "        text-align: right;\n",
       "    }\n",
       "</style>\n",
       "<table border=\"1\" class=\"dataframe\">\n",
       "  <thead>\n",
       "    <tr style=\"text-align: right;\">\n",
       "      <th></th>\n",
       "      <th>dia</th>\n",
       "      <th>tipo_transporte</th>\n",
       "      <th>cantidad</th>\n",
       "    </tr>\n",
       "  </thead>\n",
       "  <tbody>\n",
       "    <tr>\n",
       "      <th>0</th>\n",
       "      <td>2020-12-10</td>\n",
       "      <td>3</td>\n",
       "      <td>193289.0</td>\n",
       "    </tr>\n",
       "    <tr>\n",
       "      <th>1</th>\n",
       "      <td>2020-12-11</td>\n",
       "      <td>3</td>\n",
       "      <td>183398.0</td>\n",
       "    </tr>\n",
       "    <tr>\n",
       "      <th>2</th>\n",
       "      <td>2020-12-12</td>\n",
       "      <td>3</td>\n",
       "      <td>102781.0</td>\n",
       "    </tr>\n",
       "    <tr>\n",
       "      <th>3</th>\n",
       "      <td>2020-12-13</td>\n",
       "      <td>3</td>\n",
       "      <td>40472.0</td>\n",
       "    </tr>\n",
       "    <tr>\n",
       "      <th>4</th>\n",
       "      <td>2020-12-14</td>\n",
       "      <td>3</td>\n",
       "      <td>177083.0</td>\n",
       "    </tr>\n",
       "    <tr>\n",
       "      <th>...</th>\n",
       "      <td>...</td>\n",
       "      <td>...</td>\n",
       "      <td>...</td>\n",
       "    </tr>\n",
       "    <tr>\n",
       "      <th>138</th>\n",
       "      <td>2021-10-14</td>\n",
       "      <td>3</td>\n",
       "      <td>525582.0</td>\n",
       "    </tr>\n",
       "    <tr>\n",
       "      <th>139</th>\n",
       "      <td>2021-10-15</td>\n",
       "      <td>3</td>\n",
       "      <td>525513.0</td>\n",
       "    </tr>\n",
       "    <tr>\n",
       "      <th>140</th>\n",
       "      <td>2021-10-16</td>\n",
       "      <td>3</td>\n",
       "      <td>283811.0</td>\n",
       "    </tr>\n",
       "    <tr>\n",
       "      <th>141</th>\n",
       "      <td>2021-10-17</td>\n",
       "      <td>3</td>\n",
       "      <td>163059.0</td>\n",
       "    </tr>\n",
       "    <tr>\n",
       "      <th>142</th>\n",
       "      <td>2021-10-18</td>\n",
       "      <td>3</td>\n",
       "      <td>508730.0</td>\n",
       "    </tr>\n",
       "  </tbody>\n",
       "</table>\n",
       "<p>143 rows × 3 columns</p>\n",
       "</div>"
      ],
      "text/plain": [
       "           dia  tipo_transporte  cantidad\n",
       "0   2020-12-10                3  193289.0\n",
       "1   2020-12-11                3  183398.0\n",
       "2   2020-12-12                3  102781.0\n",
       "3   2020-12-13                3   40472.0\n",
       "4   2020-12-14                3  177083.0\n",
       "..         ...              ...       ...\n",
       "138 2021-10-14                3  525582.0\n",
       "139 2021-10-15                3  525513.0\n",
       "140 2021-10-16                3  283811.0\n",
       "141 2021-10-17                3  163059.0\n",
       "142 2021-10-18                3  508730.0\n",
       "\n",
       "[143 rows x 3 columns]"
      ]
     },
     "execution_count": 28,
     "metadata": {},
     "output_type": "execute_result"
    }
   ],
   "source": [
    "subte"
   ]
  },
  {
   "cell_type": "code",
   "execution_count": 29,
   "id": "2a4fd12b",
   "metadata": {},
   "outputs": [],
   "source": [
    "tren['tipo_transporte'] = tipo_transporte['idTransporte'].loc[tipo_transporte['nombreTransporte'] == 'Tren'].values[0]"
   ]
  },
  {
   "cell_type": "code",
   "execution_count": 30,
   "id": "27a442a2",
   "metadata": {},
   "outputs": [
    {
     "data": {
      "text/html": [
       "<div>\n",
       "<style scoped>\n",
       "    .dataframe tbody tr th:only-of-type {\n",
       "        vertical-align: middle;\n",
       "    }\n",
       "\n",
       "    .dataframe tbody tr th {\n",
       "        vertical-align: top;\n",
       "    }\n",
       "\n",
       "    .dataframe thead th {\n",
       "        text-align: right;\n",
       "    }\n",
       "</style>\n",
       "<table border=\"1\" class=\"dataframe\">\n",
       "  <thead>\n",
       "    <tr style=\"text-align: right;\">\n",
       "      <th></th>\n",
       "      <th>dia</th>\n",
       "      <th>tipo_transporte</th>\n",
       "      <th>cantidad</th>\n",
       "    </tr>\n",
       "  </thead>\n",
       "  <tbody>\n",
       "    <tr>\n",
       "      <th>0</th>\n",
       "      <td>2020-11-23</td>\n",
       "      <td>1</td>\n",
       "      <td>140868.0</td>\n",
       "    </tr>\n",
       "    <tr>\n",
       "      <th>1</th>\n",
       "      <td>2020-11-24</td>\n",
       "      <td>1</td>\n",
       "      <td>508082.0</td>\n",
       "    </tr>\n",
       "    <tr>\n",
       "      <th>2</th>\n",
       "      <td>2020-11-25</td>\n",
       "      <td>1</td>\n",
       "      <td>445829.0</td>\n",
       "    </tr>\n",
       "    <tr>\n",
       "      <th>3</th>\n",
       "      <td>2020-11-27</td>\n",
       "      <td>1</td>\n",
       "      <td>526870.0</td>\n",
       "    </tr>\n",
       "    <tr>\n",
       "      <th>4</th>\n",
       "      <td>2020-12-02</td>\n",
       "      <td>1</td>\n",
       "      <td>520595.0</td>\n",
       "    </tr>\n",
       "    <tr>\n",
       "      <th>...</th>\n",
       "      <td>...</td>\n",
       "      <td>...</td>\n",
       "      <td>...</td>\n",
       "    </tr>\n",
       "    <tr>\n",
       "      <th>310</th>\n",
       "      <td>2021-10-15</td>\n",
       "      <td>1</td>\n",
       "      <td>989237.0</td>\n",
       "    </tr>\n",
       "    <tr>\n",
       "      <th>311</th>\n",
       "      <td>2021-10-16</td>\n",
       "      <td>1</td>\n",
       "      <td>608366.0</td>\n",
       "    </tr>\n",
       "    <tr>\n",
       "      <th>312</th>\n",
       "      <td>2021-10-17</td>\n",
       "      <td>1</td>\n",
       "      <td>255101.0</td>\n",
       "    </tr>\n",
       "    <tr>\n",
       "      <th>313</th>\n",
       "      <td>2021-10-18</td>\n",
       "      <td>1</td>\n",
       "      <td>944001.0</td>\n",
       "    </tr>\n",
       "    <tr>\n",
       "      <th>314</th>\n",
       "      <td>2021-10-19</td>\n",
       "      <td>1</td>\n",
       "      <td>941259.0</td>\n",
       "    </tr>\n",
       "  </tbody>\n",
       "</table>\n",
       "<p>315 rows × 3 columns</p>\n",
       "</div>"
      ],
      "text/plain": [
       "           dia  tipo_transporte  cantidad\n",
       "0   2020-11-23                1  140868.0\n",
       "1   2020-11-24                1  508082.0\n",
       "2   2020-11-25                1  445829.0\n",
       "3   2020-11-27                1  526870.0\n",
       "4   2020-12-02                1  520595.0\n",
       "..         ...              ...       ...\n",
       "310 2021-10-15                1  989237.0\n",
       "311 2021-10-16                1  608366.0\n",
       "312 2021-10-17                1  255101.0\n",
       "313 2021-10-18                1  944001.0\n",
       "314 2021-10-19                1  941259.0\n",
       "\n",
       "[315 rows x 3 columns]"
      ]
     },
     "execution_count": 30,
     "metadata": {},
     "output_type": "execute_result"
    }
   ],
   "source": [
    "tren"
   ]
  },
  {
   "cell_type": "code",
   "execution_count": 31,
   "id": "f6862380",
   "metadata": {},
   "outputs": [],
   "source": [
    "colectivo['tipo_transporte'] = tipo_transporte['idTransporte'].loc[tipo_transporte['nombreTransporte'] == 'Colectivo'].values[0]"
   ]
  },
  {
   "cell_type": "code",
   "execution_count": 32,
   "id": "e4de4c22",
   "metadata": {},
   "outputs": [
    {
     "data": {
      "text/html": [
       "<div>\n",
       "<style scoped>\n",
       "    .dataframe tbody tr th:only-of-type {\n",
       "        vertical-align: middle;\n",
       "    }\n",
       "\n",
       "    .dataframe tbody tr th {\n",
       "        vertical-align: top;\n",
       "    }\n",
       "\n",
       "    .dataframe thead th {\n",
       "        text-align: right;\n",
       "    }\n",
       "</style>\n",
       "<table border=\"1\" class=\"dataframe\">\n",
       "  <thead>\n",
       "    <tr style=\"text-align: right;\">\n",
       "      <th></th>\n",
       "      <th>dia</th>\n",
       "      <th>tipo_transporte</th>\n",
       "      <th>cantidad</th>\n",
       "    </tr>\n",
       "  </thead>\n",
       "  <tbody>\n",
       "    <tr>\n",
       "      <th>0</th>\n",
       "      <td>2020-11-25</td>\n",
       "      <td>2</td>\n",
       "      <td>1995409.0</td>\n",
       "    </tr>\n",
       "    <tr>\n",
       "      <th>1</th>\n",
       "      <td>2020-11-27</td>\n",
       "      <td>2</td>\n",
       "      <td>2285206.0</td>\n",
       "    </tr>\n",
       "    <tr>\n",
       "      <th>2</th>\n",
       "      <td>2020-12-02</td>\n",
       "      <td>2</td>\n",
       "      <td>2216133.0</td>\n",
       "    </tr>\n",
       "    <tr>\n",
       "      <th>3</th>\n",
       "      <td>2020-12-05</td>\n",
       "      <td>2</td>\n",
       "      <td>1775955.0</td>\n",
       "    </tr>\n",
       "    <tr>\n",
       "      <th>4</th>\n",
       "      <td>2020-12-06</td>\n",
       "      <td>2</td>\n",
       "      <td>1019610.0</td>\n",
       "    </tr>\n",
       "    <tr>\n",
       "      <th>...</th>\n",
       "      <td>...</td>\n",
       "      <td>...</td>\n",
       "      <td>...</td>\n",
       "    </tr>\n",
       "    <tr>\n",
       "      <th>313</th>\n",
       "      <td>2021-10-15</td>\n",
       "      <td>2</td>\n",
       "      <td>4021969.0</td>\n",
       "    </tr>\n",
       "    <tr>\n",
       "      <th>314</th>\n",
       "      <td>2021-10-16</td>\n",
       "      <td>2</td>\n",
       "      <td>2568445.0</td>\n",
       "    </tr>\n",
       "    <tr>\n",
       "      <th>315</th>\n",
       "      <td>2021-10-17</td>\n",
       "      <td>2</td>\n",
       "      <td>1562568.0</td>\n",
       "    </tr>\n",
       "    <tr>\n",
       "      <th>316</th>\n",
       "      <td>2021-10-18</td>\n",
       "      <td>2</td>\n",
       "      <td>3615212.0</td>\n",
       "    </tr>\n",
       "    <tr>\n",
       "      <th>317</th>\n",
       "      <td>2021-10-19</td>\n",
       "      <td>2</td>\n",
       "      <td>3829389.0</td>\n",
       "    </tr>\n",
       "  </tbody>\n",
       "</table>\n",
       "<p>318 rows × 3 columns</p>\n",
       "</div>"
      ],
      "text/plain": [
       "           dia  tipo_transporte   cantidad\n",
       "0   2020-11-25                2  1995409.0\n",
       "1   2020-11-27                2  2285206.0\n",
       "2   2020-12-02                2  2216133.0\n",
       "3   2020-12-05                2  1775955.0\n",
       "4   2020-12-06                2  1019610.0\n",
       "..         ...              ...        ...\n",
       "313 2021-10-15                2  4021969.0\n",
       "314 2021-10-16                2  2568445.0\n",
       "315 2021-10-17                2  1562568.0\n",
       "316 2021-10-18                2  3615212.0\n",
       "317 2021-10-19                2  3829389.0\n",
       "\n",
       "[318 rows x 3 columns]"
      ]
     },
     "execution_count": 32,
     "metadata": {},
     "output_type": "execute_result"
    }
   ],
   "source": [
    "colectivo"
   ]
  },
  {
   "cell_type": "markdown",
   "id": "52efb04a",
   "metadata": {},
   "source": [
    "# Conexión a la BD"
   ]
  },
  {
   "cell_type": "code",
   "execution_count": 33,
   "id": "378923e0",
   "metadata": {},
   "outputs": [
    {
     "ename": "SyntaxError",
     "evalue": "invalid syntax. Perhaps you forgot a comma? (1045502750.py, line 3)",
     "output_type": "error",
     "traceback": [
      "\u001b[1;36m  Cell \u001b[1;32mIn[33], line 3\u001b[1;36m\u001b[0m\n\u001b[1;33m    user='root' # nombre de usuario,\u001b[0m\n\u001b[1;37m         ^\u001b[0m\n\u001b[1;31mSyntaxError\u001b[0m\u001b[1;31m:\u001b[0m invalid syntax. Perhaps you forgot a comma?\n"
     ]
    }
   ],
   "source": [
    "conexion = pymysql.connect(\n",
    "host='localhost',\n",
    "user='root' # nombre de usuario,\n",
    "password='' # contraseña de la BD)"
   ]
  },
  {
   "cell_type": "code",
   "execution_count": null,
   "id": "5d95bd34",
   "metadata": {},
   "outputs": [],
   "source": [
    "cursor = conexion.cursor()"
   ]
  },
  {
   "cell_type": "code",
   "execution_count": null,
   "id": "280580bf",
   "metadata": {},
   "outputs": [],
   "source": [
    "crear_bd = \"create database if not exists transporte\""
   ]
  },
  {
   "cell_type": "code",
   "execution_count": null,
   "id": "c02d7bb0",
   "metadata": {},
   "outputs": [
    {
     "data": {
      "text/plain": [
       "1"
      ]
     },
     "execution_count": 73,
     "metadata": {},
     "output_type": "execute_result"
    }
   ],
   "source": [
    "cursor.execute(crear_bd)"
   ]
  },
  {
   "cell_type": "code",
   "execution_count": null,
   "id": "337ccc31",
   "metadata": {},
   "outputs": [
    {
     "data": {
      "text/html": [
       "<div>\n",
       "<style scoped>\n",
       "    .dataframe tbody tr th:only-of-type {\n",
       "        vertical-align: middle;\n",
       "    }\n",
       "\n",
       "    .dataframe tbody tr th {\n",
       "        vertical-align: top;\n",
       "    }\n",
       "\n",
       "    .dataframe thead th {\n",
       "        text-align: right;\n",
       "    }\n",
       "</style>\n",
       "<table border=\"1\" class=\"dataframe\">\n",
       "  <thead>\n",
       "    <tr style=\"text-align: right;\">\n",
       "      <th></th>\n",
       "      <th>idTransporte</th>\n",
       "      <th>nombreTransporte</th>\n",
       "    </tr>\n",
       "  </thead>\n",
       "  <tbody>\n",
       "    <tr>\n",
       "      <th>1</th>\n",
       "      <td>1</td>\n",
       "      <td>Tren</td>\n",
       "    </tr>\n",
       "    <tr>\n",
       "      <th>2</th>\n",
       "      <td>2</td>\n",
       "      <td>Colectivo</td>\n",
       "    </tr>\n",
       "    <tr>\n",
       "      <th>3</th>\n",
       "      <td>3</td>\n",
       "      <td>Subte</td>\n",
       "    </tr>\n",
       "  </tbody>\n",
       "</table>\n",
       "</div>"
      ],
      "text/plain": [
       "   idTransporte nombreTransporte\n",
       "1             1             Tren\n",
       "2             2        Colectivo\n",
       "3             3            Subte"
      ]
     },
     "execution_count": 77,
     "metadata": {},
     "output_type": "execute_result"
    }
   ],
   "source": [
    "tipo_transporte"
   ]
  },
  {
   "cell_type": "code",
   "execution_count": null,
   "id": "9433128c",
   "metadata": {},
   "outputs": [
    {
     "data": {
      "text/plain": [
       "0"
      ]
     },
     "execution_count": 78,
     "metadata": {},
     "output_type": "execute_result"
    }
   ],
   "source": [
    "cursor.execute('use transporte')"
   ]
  },
  {
   "cell_type": "code",
   "execution_count": null,
   "id": "23a00690",
   "metadata": {},
   "outputs": [],
   "source": [
    "create_tipo = \"\"\"\n",
    "create table if not exists \n",
    "tipo_transporte (\n",
    "idTransporte INT NOT NULL AUTO_INCREMENT,\n",
    "nombreTransporte VARCHAR(50),\n",
    "PRIMARY KEY (idTransporte));\n",
    "\"\"\""
   ]
  },
  {
   "cell_type": "code",
   "execution_count": null,
   "id": "f46f0fad",
   "metadata": {},
   "outputs": [
    {
     "data": {
      "text/plain": [
       "0"
      ]
     },
     "execution_count": 79,
     "metadata": {},
     "output_type": "execute_result"
    }
   ],
   "source": [
    "cursor.execute(create_tipo)"
   ]
  },
  {
   "cell_type": "code",
   "execution_count": null,
   "id": "9ae49e86",
   "metadata": {},
   "outputs": [],
   "source": [
    "create_subte = \"\"\"\n",
    "create table if not exists \n",
    "subte (\n",
    "pointId int not null auto_increment,\n",
    "fecha DATE,\n",
    "tipoTransporte int,\n",
    "cantidad float,\n",
    "PRIMARY KEY (pointId),\n",
    "FOREIGN KEY (tipoTransporte) REFERENCES tipo_transporte(idTransporte)\n",
    ");\n",
    "\"\"\""
   ]
  },
  {
   "cell_type": "code",
   "execution_count": null,
   "id": "e6ee68d3",
   "metadata": {},
   "outputs": [
    {
     "data": {
      "text/plain": [
       "0"
      ]
     },
     "execution_count": 88,
     "metadata": {},
     "output_type": "execute_result"
    }
   ],
   "source": [
    "cursor.execute(create_subte)"
   ]
  },
  {
   "cell_type": "code",
   "execution_count": null,
   "id": "581501aa",
   "metadata": {},
   "outputs": [],
   "source": [
    "create_tren = \"\"\"\n",
    "create table if not exists \n",
    "tren (\n",
    "pointId int not null auto_increment,\n",
    "fecha DATE,\n",
    "tipoTransporte int,\n",
    "cantidad float,\n",
    "PRIMARY KEY (pointId),\n",
    "FOREIGN KEY (tipoTransporte) REFERENCES tipo_transporte(idTransporte)\n",
    ");\n",
    "\"\"\""
   ]
  },
  {
   "cell_type": "code",
   "execution_count": null,
   "id": "76e8eea0",
   "metadata": {},
   "outputs": [
    {
     "data": {
      "text/plain": [
       "0"
      ]
     },
     "execution_count": 90,
     "metadata": {},
     "output_type": "execute_result"
    }
   ],
   "source": [
    "cursor.execute(create_tren)"
   ]
  },
  {
   "cell_type": "code",
   "execution_count": null,
   "id": "c5d20017",
   "metadata": {},
   "outputs": [],
   "source": [
    "create_colectivo = \"\"\"\n",
    "create table if not exists \n",
    "colectivo (\n",
    "pointId int not null auto_increment,\n",
    "fecha DATE,\n",
    "tipoTransporte int,\n",
    "cantidad float,\n",
    "PRIMARY KEY (pointId),\n",
    "FOREIGN KEY (tipoTransporte) REFERENCES tipo_transporte(idTransporte)\n",
    ");\n",
    "\"\"\""
   ]
  },
  {
   "cell_type": "code",
   "execution_count": null,
   "id": "81c2c502",
   "metadata": {},
   "outputs": [
    {
     "data": {
      "text/plain": [
       "0"
      ]
     },
     "execution_count": 92,
     "metadata": {},
     "output_type": "execute_result"
    }
   ],
   "source": [
    "cursor.execute(create_colectivo)"
   ]
  },
  {
   "cell_type": "code",
   "execution_count": null,
   "id": "cb3f2bf0",
   "metadata": {},
   "outputs": [],
   "source": [
    "filas_tipo = [tuple(tipo_transporte.iloc[i].values) for i in range(tipo_transporte.shape[0])]"
   ]
  },
  {
   "cell_type": "code",
   "execution_count": null,
   "id": "140ee5ef",
   "metadata": {},
   "outputs": [
    {
     "data": {
      "text/plain": [
       "[(1, 'Tren'), (2, 'Colectivo'), (3, 'Subte')]"
      ]
     },
     "execution_count": 100,
     "metadata": {},
     "output_type": "execute_result"
    }
   ],
   "source": [
    "filas_tipo"
   ]
  },
  {
   "cell_type": "code",
   "execution_count": null,
   "id": "c2a709aa",
   "metadata": {},
   "outputs": [],
   "source": [
    "fill_transporte = \"\"\"\n",
    "INSERT INTO tipo_transporte (idTransporte, nombreTransporte)\n",
    "VALUES (%s, %s)\n",
    "\"\"\""
   ]
  },
  {
   "cell_type": "code",
   "execution_count": null,
   "id": "c2d93b19",
   "metadata": {},
   "outputs": [
    {
     "data": {
      "text/plain": [
       "3"
      ]
     },
     "execution_count": 101,
     "metadata": {},
     "output_type": "execute_result"
    }
   ],
   "source": [
    "cursor.executemany(fill_transporte, filas_tipo)"
   ]
  },
  {
   "cell_type": "code",
   "execution_count": null,
   "id": "63cd058a",
   "metadata": {},
   "outputs": [
    {
     "data": {
      "text/plain": [
       "3"
      ]
     },
     "execution_count": 102,
     "metadata": {},
     "output_type": "execute_result"
    }
   ],
   "source": [
    "cursor.execute('select * from tipo_transporte')"
   ]
  },
  {
   "cell_type": "code",
   "execution_count": null,
   "id": "e802aacc",
   "metadata": {},
   "outputs": [],
   "source": [
    "conexion.commit()"
   ]
  },
  {
   "cell_type": "code",
   "execution_count": null,
   "id": "d28ecf26",
   "metadata": {},
   "outputs": [],
   "source": [
    "insertar_subte = \"\"\"\n",
    "INSERT INTO subte (fecha, tipoTransporte, cantidad)\n",
    "VALUES (%s, %s, %s)\n",
    "\"\"\""
   ]
  },
  {
   "cell_type": "code",
   "execution_count": null,
   "id": "0e2b71cf",
   "metadata": {},
   "outputs": [],
   "source": [
    "filas_subte = [tuple(subte.iloc[i].values) for i in range(subte.shape[0])]"
   ]
  },
  {
   "cell_type": "code",
   "execution_count": null,
   "id": "03f342c0",
   "metadata": {},
   "outputs": [
    {
     "data": {
      "text/plain": [
       "143"
      ]
     },
     "execution_count": 110,
     "metadata": {},
     "output_type": "execute_result"
    }
   ],
   "source": [
    "cursor.executemany(insertar_subte, filas_subte)"
   ]
  },
  {
   "cell_type": "code",
   "execution_count": null,
   "id": "03bdf8f3",
   "metadata": {},
   "outputs": [],
   "source": [
    "conexion.commit()"
   ]
  },
  {
   "cell_type": "code",
   "execution_count": null,
   "id": "b60b13ed",
   "metadata": {},
   "outputs": [
    {
     "data": {
      "text/plain": [
       "[(Timestamp('2020-12-10 00:00:00'), 3, 193289.0),\n",
       " (Timestamp('2020-12-11 00:00:00'), 3, 183398.0),\n",
       " (Timestamp('2020-12-12 00:00:00'), 3, 102781.0),\n",
       " (Timestamp('2020-12-13 00:00:00'), 3, 40472.0),\n",
       " (Timestamp('2020-12-14 00:00:00'), 3, 177083.0),\n",
       " (Timestamp('2020-12-15 00:00:00'), 3, 175625.0),\n",
       " (Timestamp('2020-12-16 00:00:00'), 3, 188097.0),\n",
       " (Timestamp('2020-12-17 00:00:00'), 3, 190085.0),\n",
       " (Timestamp('2020-12-18 00:00:00'), 3, 203783.0),\n",
       " (Timestamp('2020-12-19 00:00:00'), 3, 120934.0),\n",
       " (Timestamp('2020-12-20 00:00:00'), 3, 54681.0),\n",
       " (Timestamp('2021-01-08 00:00:00'), 3, 167895.0),\n",
       " (Timestamp('2021-01-09 00:00:00'), 3, 89593.0),\n",
       " (Timestamp('2021-01-10 00:00:00'), 3, 41197.0),\n",
       " (Timestamp('2021-01-18 00:00:00'), 3, 163756.0),\n",
       " (Timestamp('2021-01-21 00:00:00'), 3, 165226.0),\n",
       " (Timestamp('2021-01-22 00:00:00'), 3, 169214.0),\n",
       " (Timestamp('2021-01-23 00:00:00'), 3, 89612.0),\n",
       " (Timestamp('2021-01-24 00:00:00'), 3, 41628.0),\n",
       " (Timestamp('2021-01-25 00:00:00'), 3, 145011.0),\n",
       " (Timestamp('2021-01-26 00:00:00'), 3, 158709.0),\n",
       " (Timestamp('2021-01-26 00:00:00'), 3, 158709.0),\n",
       " (Timestamp('2021-01-26 00:00:00'), 3, 158709.0),\n",
       " (Timestamp('2021-01-27 00:00:00'), 3, 168262.0),\n",
       " (Timestamp('2021-01-27 00:00:00'), 3, 168262.0),\n",
       " (Timestamp('2021-01-28 00:00:00'), 3, 172317.0),\n",
       " (Timestamp('2021-01-29 00:00:00'), 3, 168413.0),\n",
       " (Timestamp('2021-01-30 00:00:00'), 3, 77991.0),\n",
       " (Timestamp('2021-01-31 00:00:00'), 3, 39582.0),\n",
       " (Timestamp('2021-02-01 00:00:00'), 3, 158363.0),\n",
       " (Timestamp('2021-02-01 00:00:00'), 3, 158363.0),\n",
       " (Timestamp('2021-02-02 00:00:00'), 3, 178024.0),\n",
       " (Timestamp('2021-02-03 00:00:00'), 3, 140520.0),\n",
       " (Timestamp('2021-02-03 00:00:00'), 3, 140520.0),\n",
       " (Timestamp('2021-02-04 00:00:00'), 3, 185191.0),\n",
       " (Timestamp('2021-02-05 00:00:00'), 3, 180085.0),\n",
       " (Timestamp('2021-02-06 00:00:00'), 3, 103359.0),\n",
       " (Timestamp('2021-02-07 00:00:00'), 3, 49961.0),\n",
       " (Timestamp('2021-02-08 00:00:00'), 3, 177166.0),\n",
       " (Timestamp('2021-02-09 00:00:00'), 3, 188850.0),\n",
       " (Timestamp('2021-02-10 00:00:00'), 3, 193600.0),\n",
       " (Timestamp('2021-02-11 00:00:00'), 3, 196462.0),\n",
       " (Timestamp('2021-02-12 00:00:00'), 3, 196806.0),\n",
       " (Timestamp('2021-02-13 00:00:00'), 3, 104260.0),\n",
       " (Timestamp('2021-02-14 00:00:00'), 3, 56115.0),\n",
       " (Timestamp('2021-02-15 00:00:00'), 3, 62654.0),\n",
       " (Timestamp('2021-02-16 00:00:00'), 3, 59475.0),\n",
       " (Timestamp('2021-02-17 00:00:00'), 3, 203919.0),\n",
       " (Timestamp('2021-02-18 00:00:00'), 3, 214273.0),\n",
       " (Timestamp('2021-02-19 00:00:00'), 3, 209921.0),\n",
       " (Timestamp('2021-02-19 00:00:00'), 3, 209921.0),\n",
       " (Timestamp('2021-02-26 00:00:00'), 3, 220593.0),\n",
       " (Timestamp('2021-02-27 00:00:00'), 3, 119016.0),\n",
       " (Timestamp('2021-03-01 00:00:00'), 3, 203885.0),\n",
       " (Timestamp('2021-03-02 00:00:00'), 3, 217653.0),\n",
       " (Timestamp('2021-03-04 00:00:00'), 3, 176444.0),\n",
       " (Timestamp('2021-03-05 00:00:00'), 3, 237689.0),\n",
       " (Timestamp('2021-03-06 00:00:00'), 3, 128228.0),\n",
       " (Timestamp('2021-03-08 00:00:00'), 3, 249851.0),\n",
       " (Timestamp('2021-03-26 00:00:00'), 3, 263171.0),\n",
       " (Timestamp('2021-03-29 00:00:00'), 3, 256929.0),\n",
       " (Timestamp('2021-03-30 00:00:00'), 3, 258681.0),\n",
       " (Timestamp('2021-04-13 00:00:00'), 3, 206413.0),\n",
       " (Timestamp('2021-04-14 00:00:00'), 3, 202415.0),\n",
       " (Timestamp('2021-04-15 00:00:00'), 3, 204052.0),\n",
       " (Timestamp('2021-04-16 00:00:00'), 3, 198110.0),\n",
       " (Timestamp('2021-04-26 00:00:00'), 3, 181247.0),\n",
       " (Timestamp('2021-04-30 00:00:00'), 3, 194218.0),\n",
       " (Timestamp('2021-05-15 00:00:00'), 3, 90659.0),\n",
       " (Timestamp('2021-05-16 00:00:00'), 3, 38372.0),\n",
       " (Timestamp('2021-05-17 00:00:00'), 3, 180418.0),\n",
       " (Timestamp('2021-05-18 00:00:00'), 3, 179445.0),\n",
       " (Timestamp('2021-05-19 00:00:00'), 3, 183107.0),\n",
       " (Timestamp('2021-05-23 00:00:00'), 3, 16831.0),\n",
       " (Timestamp('2021-05-24 00:00:00'), 3, 32558.0),\n",
       " (Timestamp('2021-05-25 00:00:00'), 3, 26250.0),\n",
       " (Timestamp('2021-05-28 00:00:00'), 3, 126343.0),\n",
       " (Timestamp('2021-05-29 00:00:00'), 3, 53107.0),\n",
       " (Timestamp('2021-05-30 00:00:00'), 3, 23593.0),\n",
       " (Timestamp('2021-05-31 00:00:00'), 3, 166682.0),\n",
       " (Timestamp('2021-06-01 00:00:00'), 3, 176348.0),\n",
       " (Timestamp('2021-06-02 00:00:00'), 3, 184581.0),\n",
       " (Timestamp('2021-06-03 00:00:00'), 3, 190087.0),\n",
       " (Timestamp('2021-06-04 00:00:00'), 3, 191353.0),\n",
       " (Timestamp('2021-06-05 00:00:00'), 3, 63990.0),\n",
       " (Timestamp('2021-06-06 00:00:00'), 3, 34119.0),\n",
       " (Timestamp('2021-06-07 00:00:00'), 3, 189233.0),\n",
       " (Timestamp('2021-06-08 00:00:00'), 3, 192893.0),\n",
       " (Timestamp('2021-06-29 00:00:00'), 3, 212069.0),\n",
       " (Timestamp('2021-06-30 00:00:00'), 3, 217553.0),\n",
       " (Timestamp('2021-07-01 00:00:00'), 3, 228622.0),\n",
       " (Timestamp('2021-07-02 00:00:00'), 3, 239201.0),\n",
       " (Timestamp('2021-07-03 00:00:00'), 3, 125897.0),\n",
       " (Timestamp('2021-07-05 00:00:00'), 3, 231873.0),\n",
       " (Timestamp('2021-07-06 00:00:00'), 3, 241674.0),\n",
       " (Timestamp('2021-07-07 00:00:00'), 3, 232677.0),\n",
       " (Timestamp('2021-07-08 00:00:00'), 3, 272915.0),\n",
       " (Timestamp('2021-07-09 00:00:00'), 3, 97277.0),\n",
       " (Timestamp('2021-07-10 00:00:00'), 3, 133139.0),\n",
       " (Timestamp('2021-07-11 00:00:00'), 3, 63367.0),\n",
       " (Timestamp('2021-07-12 00:00:00'), 3, 236678.0),\n",
       " (Timestamp('2021-07-15 00:00:00'), 3, 273433.0),\n",
       " (Timestamp('2021-07-16 00:00:00'), 3, 284736.0),\n",
       " (Timestamp('2021-07-17 00:00:00'), 3, 157033.0),\n",
       " (Timestamp('2021-08-09 00:00:00'), 3, 279075.0),\n",
       " (Timestamp('2021-08-10 00:00:00'), 3, 319077.0),\n",
       " (Timestamp('2021-08-11 00:00:00'), 3, 327681.0),\n",
       " (Timestamp('2021-08-12 00:00:00'), 3, 331681.0),\n",
       " (Timestamp('2021-08-13 00:00:00'), 3, 342279.0),\n",
       " (Timestamp('2021-08-17 00:00:00'), 3, 337841.0),\n",
       " (Timestamp('2021-08-18 00:00:00'), 3, 376850.0),\n",
       " (Timestamp('2021-08-19 00:00:00'), 3, 338540.0),\n",
       " (Timestamp('2021-08-20 00:00:00'), 3, 359636.0),\n",
       " (Timestamp('2021-08-21 00:00:00'), 3, 187894.0),\n",
       " (Timestamp('2021-08-22 00:00:00'), 3, 103968.0),\n",
       " (Timestamp('2021-08-23 00:00:00'), 3, 338713.0),\n",
       " (Timestamp('2021-08-24 00:00:00'), 3, 354659.0),\n",
       " (Timestamp('2021-08-25 00:00:00'), 3, 351288.0),\n",
       " (Timestamp('2021-08-26 00:00:00'), 3, 359413.0),\n",
       " (Timestamp('2021-08-27 00:00:00'), 3, 378633.0),\n",
       " (Timestamp('2021-08-31 00:00:00'), 3, 361275.0),\n",
       " (Timestamp('2021-09-11 00:00:00'), 3, 192177.0),\n",
       " (Timestamp('2021-09-12 00:00:00'), 3, 288.0),\n",
       " (Timestamp('2021-09-13 00:00:00'), 3, 381618.0),\n",
       " (Timestamp('2021-09-14 00:00:00'), 3, 413457.0),\n",
       " (Timestamp('2021-09-15 00:00:00'), 3, 420574.0),\n",
       " (Timestamp('2021-09-16 00:00:00'), 3, 419012.0),\n",
       " (Timestamp('2021-09-17 00:00:00'), 3, 445613.0),\n",
       " (Timestamp('2021-09-18 00:00:00'), 3, 238090.0),\n",
       " (Timestamp('2021-09-19 00:00:00'), 3, 124486.0),\n",
       " (Timestamp('2021-09-20 00:00:00'), 3, 408437.0),\n",
       " (Timestamp('2021-09-21 00:00:00'), 3, 445181.0),\n",
       " (Timestamp('2021-09-24 00:00:00'), 3, 456820.0),\n",
       " (Timestamp('2021-09-29 00:00:00'), 3, 441713.0),\n",
       " (Timestamp('2021-09-30 00:00:00'), 3, 427791.0),\n",
       " (Timestamp('2021-10-11 00:00:00'), 3, 6954.0),\n",
       " (Timestamp('2021-10-12 00:00:00'), 3, 487316.0),\n",
       " (Timestamp('2021-10-13 00:00:00'), 3, 491433.0),\n",
       " (Timestamp('2021-10-14 00:00:00'), 3, 525582.0),\n",
       " (Timestamp('2021-10-15 00:00:00'), 3, 525513.0),\n",
       " (Timestamp('2021-10-16 00:00:00'), 3, 283811.0),\n",
       " (Timestamp('2021-10-17 00:00:00'), 3, 163059.0),\n",
       " (Timestamp('2021-10-18 00:00:00'), 3, 508730.0)]"
      ]
     },
     "execution_count": 107,
     "metadata": {},
     "output_type": "execute_result"
    }
   ],
   "source": [
    "filas_subte"
   ]
  },
  {
   "cell_type": "code",
   "execution_count": null,
   "id": "4540ad97",
   "metadata": {},
   "outputs": [],
   "source": [
    "insertar_tren = \"\"\"\n",
    "INSERT INTO tren (fecha, tipoTransporte, cantidad)\n",
    "VALUES (%s, %s, %s)\n",
    "\"\"\""
   ]
  },
  {
   "cell_type": "code",
   "execution_count": null,
   "id": "de02774c",
   "metadata": {},
   "outputs": [],
   "source": [
    "filas_tren = [tuple(tren.iloc[i].values) for i in range(tren.shape[0])]"
   ]
  },
  {
   "cell_type": "code",
   "execution_count": null,
   "id": "3a76d268",
   "metadata": {},
   "outputs": [
    {
     "data": {
      "text/plain": [
       "[(Timestamp('2020-11-23 00:00:00'), 1, 140868.0),\n",
       " (Timestamp('2020-11-24 00:00:00'), 1, 508082.0),\n",
       " (Timestamp('2020-11-25 00:00:00'), 1, 445829.0),\n",
       " (Timestamp('2020-11-27 00:00:00'), 1, 526870.0),\n",
       " (Timestamp('2020-12-02 00:00:00'), 1, 520595.0),\n",
       " (Timestamp('2020-12-05 00:00:00'), 1, 320587.0),\n",
       " (Timestamp('2020-12-06 00:00:00'), 1, 129866.0),\n",
       " (Timestamp('2020-12-07 00:00:00'), 1, 209166.0),\n",
       " (Timestamp('2020-12-08 00:00:00'), 1, 182705.0),\n",
       " (Timestamp('2020-12-09 00:00:00'), 1, 593482.0),\n",
       " (Timestamp('2020-12-11 00:00:00'), 1, 571729.0),\n",
       " (Timestamp('2020-12-12 00:00:00'), 1, 324752.0),\n",
       " (Timestamp('2020-12-13 00:00:00'), 1, 107034.0),\n",
       " (Timestamp('2020-12-14 00:00:00'), 1, 584492.0),\n",
       " (Timestamp('2020-12-15 00:00:00'), 1, 572220.0),\n",
       " (Timestamp('2020-12-16 00:00:00'), 1, 589055.0),\n",
       " (Timestamp('2020-12-17 00:00:00'), 1, 573435.0),\n",
       " (Timestamp('2020-12-18 00:00:00'), 1, 602645.0),\n",
       " (Timestamp('2020-12-19 00:00:00'), 1, 351574.0),\n",
       " (Timestamp('2020-12-20 00:00:00'), 1, 145965.0),\n",
       " (Timestamp('2020-12-21 00:00:00'), 1, 650878.0),\n",
       " (Timestamp('2020-12-29 00:00:00'), 1, 539853.0),\n",
       " (Timestamp('2020-12-30 00:00:00'), 1, 526284.0),\n",
       " (Timestamp('2020-12-31 00:00:00'), 1, 244253.0),\n",
       " (Timestamp('2021-01-01 00:00:00'), 1, 50009.0),\n",
       " (Timestamp('2021-01-02 00:00:00'), 1, 218129.0),\n",
       " (Timestamp('2021-01-03 00:00:00'), 1, 115407.0),\n",
       " (Timestamp('2021-01-04 00:00:00'), 1, 515712.0),\n",
       " (Timestamp('2021-01-05 00:00:00'), 1, 521679.0),\n",
       " (Timestamp('2021-01-07 00:00:00'), 1, 520003.0),\n",
       " (Timestamp('2021-01-08 00:00:00'), 1, 546955.0),\n",
       " (Timestamp('2021-01-09 00:00:00'), 1, 279137.0),\n",
       " (Timestamp('2021-01-09 00:00:00'), 1, 279137.0),\n",
       " (Timestamp('2021-01-10 00:00:00'), 1, 114937.0),\n",
       " (Timestamp('2021-01-10 00:00:00'), 1, 114937.0),\n",
       " (Timestamp('2021-01-11 00:00:00'), 1, 397307.0),\n",
       " (Timestamp('2021-01-11 00:00:00'), 1, 397307.0),\n",
       " (Timestamp('2021-01-15 00:00:00'), 1, 531217.0),\n",
       " (Timestamp('2021-01-21 00:00:00'), 1, 515448.0),\n",
       " (Timestamp('2021-01-22 00:00:00'), 1, 531611.0),\n",
       " (Timestamp('2021-01-23 00:00:00'), 1, 277859.0),\n",
       " (Timestamp('2021-01-24 00:00:00'), 1, 123274.0),\n",
       " (Timestamp('2021-01-25 00:00:00'), 1, 508638.0),\n",
       " (Timestamp('2021-01-26 00:00:00'), 1, 512354.0),\n",
       " (Timestamp('2021-01-27 00:00:00'), 1, 538559.0),\n",
       " (Timestamp('2021-01-27 00:00:00'), 1, 538559.0),\n",
       " (Timestamp('2021-01-27 00:00:00'), 1, 538559.0),\n",
       " (Timestamp('2021-01-27 00:00:00'), 1, 538559.0),\n",
       " (Timestamp('2021-01-28 00:00:00'), 1, 515176.0),\n",
       " (Timestamp('2021-01-28 00:00:00'), 1, 515176.0),\n",
       " (Timestamp('2021-01-29 00:00:00'), 1, 510853.0),\n",
       " (Timestamp('2021-01-30 00:00:00'), 1, 226517.0),\n",
       " (Timestamp('2021-01-31 00:00:00'), 1, 102571.0),\n",
       " (Timestamp('2021-02-01 00:00:00'), 1, 487567.0),\n",
       " (Timestamp('2021-02-02 00:00:00'), 1, 552335.0),\n",
       " (Timestamp('2021-02-02 00:00:00'), 1, 552335.0),\n",
       " (Timestamp('2021-02-03 00:00:00'), 1, 554665.0),\n",
       " (Timestamp('2021-02-04 00:00:00'), 1, 570806.0),\n",
       " (Timestamp('2021-02-04 00:00:00'), 1, 570806.0),\n",
       " (Timestamp('2021-02-05 00:00:00'), 1, 591691.0),\n",
       " (Timestamp('2021-02-06 00:00:00'), 1, 326008.0),\n",
       " (Timestamp('2021-02-07 00:00:00'), 1, 145623.0),\n",
       " (Timestamp('2021-02-08 00:00:00'), 1, 572936.0),\n",
       " (Timestamp('2021-02-09 00:00:00'), 1, 593795.0),\n",
       " (Timestamp('2021-02-09 00:00:00'), 1, 593795.0),\n",
       " (Timestamp('2021-02-10 00:00:00'), 1, 571417.0),\n",
       " (Timestamp('2021-02-11 00:00:00'), 1, 574591.0),\n",
       " (Timestamp('2021-02-12 00:00:00'), 1, 600912.0),\n",
       " (Timestamp('2021-02-13 00:00:00'), 1, 316792.0),\n",
       " (Timestamp('2021-02-14 00:00:00'), 1, 138213.0),\n",
       " (Timestamp('2021-02-15 00:00:00'), 1, 206038.0),\n",
       " (Timestamp('2021-02-16 00:00:00'), 1, 196751.0),\n",
       " (Timestamp('2021-02-17 00:00:00'), 1, 633007.0),\n",
       " (Timestamp('2021-02-18 00:00:00'), 1, 611398.0),\n",
       " (Timestamp('2021-02-19 00:00:00'), 1, 605933.0),\n",
       " (Timestamp('2021-02-20 00:00:00'), 1, 311326.0),\n",
       " (Timestamp('2021-02-20 00:00:00'), 1, 311326.0),\n",
       " (Timestamp('2021-02-21 00:00:00'), 1, 136842.0),\n",
       " (Timestamp('2021-02-21 00:00:00'), 1, 136842.0),\n",
       " (Timestamp('2021-02-22 00:00:00'), 1, 473602.0),\n",
       " (Timestamp('2021-02-22 00:00:00'), 1, 473602.0),\n",
       " (Timestamp('2021-02-23 00:00:00'), 1, 623588.0),\n",
       " (Timestamp('2021-02-24 00:00:00'), 1, 628756.0),\n",
       " (Timestamp('2021-02-25 00:00:00'), 1, 613801.0),\n",
       " (Timestamp('2021-02-26 00:00:00'), 1, 622498.0),\n",
       " (Timestamp('2021-02-27 00:00:00'), 1, 337406.0),\n",
       " (Timestamp('2021-02-28 00:00:00'), 1, 146971.0),\n",
       " (Timestamp('2021-03-01 00:00:00'), 1, 600491.0),\n",
       " (Timestamp('2021-03-02 00:00:00'), 1, 591146.0),\n",
       " (Timestamp('2021-03-03 00:00:00'), 1, 634215.0),\n",
       " (Timestamp('2021-03-04 00:00:00'), 1, 630253.0),\n",
       " (Timestamp('2021-03-05 00:00:00'), 1, 682045.0),\n",
       " (Timestamp('2021-03-06 00:00:00'), 1, 373147.0),\n",
       " (Timestamp('2021-03-07 00:00:00'), 1, 171211.0),\n",
       " (Timestamp('2021-03-08 00:00:00'), 1, 636089.0),\n",
       " (Timestamp('2021-03-09 00:00:00'), 1, 674191.0),\n",
       " (Timestamp('2021-03-10 00:00:00'), 1, 676951.0),\n",
       " (Timestamp('2021-03-11 00:00:00'), 1, 668632.0),\n",
       " (Timestamp('2021-03-12 00:00:00'), 1, 694653.0),\n",
       " (Timestamp('2021-03-13 00:00:00'), 1, 382686.0),\n",
       " (Timestamp('2021-03-14 00:00:00'), 1, 159237.0),\n",
       " (Timestamp('2021-03-15 00:00:00'), 1, 676523.0),\n",
       " (Timestamp('2021-03-16 00:00:00'), 1, 631492.0),\n",
       " (Timestamp('2021-03-17 00:00:00'), 1, 663161.0),\n",
       " (Timestamp('2021-03-18 00:00:00'), 1, 697466.0),\n",
       " (Timestamp('2021-03-19 00:00:00'), 1, 699712.0),\n",
       " (Timestamp('2021-03-20 00:00:00'), 1, 257718.0),\n",
       " (Timestamp('2021-03-21 00:00:00'), 1, 159370.0),\n",
       " (Timestamp('2021-03-22 00:00:00'), 1, 709457.0),\n",
       " (Timestamp('2021-03-23 00:00:00'), 1, 721922.0),\n",
       " (Timestamp('2021-03-24 00:00:00'), 1, 260809.0),\n",
       " (Timestamp('2021-03-25 00:00:00'), 1, 486746.0),\n",
       " (Timestamp('2021-03-26 00:00:00'), 1, 661663.0),\n",
       " (Timestamp('2021-03-27 00:00:00'), 1, 337483.0),\n",
       " (Timestamp('2021-03-28 00:00:00'), 1, 148773.0),\n",
       " (Timestamp('2021-03-29 00:00:00'), 1, 676312.0),\n",
       " (Timestamp('2021-03-30 00:00:00'), 1, 708568.0),\n",
       " (Timestamp('2021-03-31 00:00:00'), 1, 726570.0),\n",
       " (Timestamp('2021-04-01 00:00:00'), 1, 490498.0),\n",
       " (Timestamp('2021-04-02 00:00:00'), 1, 199258.0),\n",
       " (Timestamp('2021-04-03 00:00:00'), 1, 324613.0),\n",
       " (Timestamp('2021-04-04 00:00:00'), 1, 134628.0),\n",
       " (Timestamp('2021-04-05 00:00:00'), 1, 555010.0),\n",
       " (Timestamp('2021-04-06 00:00:00'), 1, 665663.0),\n",
       " (Timestamp('2021-04-07 00:00:00'), 1, 651727.0),\n",
       " (Timestamp('2021-04-08 00:00:00'), 1, 633935.0),\n",
       " (Timestamp('2021-04-09 00:00:00'), 1, 522606.0),\n",
       " (Timestamp('2021-04-10 00:00:00'), 1, 236261.0),\n",
       " (Timestamp('2021-04-11 00:00:00'), 1, 108061.0),\n",
       " (Timestamp('2021-04-12 00:00:00'), 1, 559864.0),\n",
       " (Timestamp('2021-04-13 00:00:00'), 1, 557585.0),\n",
       " (Timestamp('2021-04-14 00:00:00'), 1, 548120.0),\n",
       " (Timestamp('2021-04-15 00:00:00'), 1, 531382.0),\n",
       " (Timestamp('2021-04-16 00:00:00'), 1, 547108.0),\n",
       " (Timestamp('2021-04-17 00:00:00'), 1, 253408.0),\n",
       " (Timestamp('2021-04-18 00:00:00'), 1, 93829.0),\n",
       " (Timestamp('2021-04-19 00:00:00'), 1, 512529.0),\n",
       " (Timestamp('2021-04-20 00:00:00'), 1, 521243.0),\n",
       " (Timestamp('2021-04-21 00:00:00'), 1, 528860.0),\n",
       " (Timestamp('2021-04-22 00:00:00'), 1, 510187.0),\n",
       " (Timestamp('2021-04-23 00:00:00'), 1, 513976.0),\n",
       " (Timestamp('2021-04-24 00:00:00'), 1, 240361.0),\n",
       " (Timestamp('2021-04-25 00:00:00'), 1, 102024.0),\n",
       " (Timestamp('2021-04-26 00:00:00'), 1, 513223.0),\n",
       " (Timestamp('2021-04-27 00:00:00'), 1, 540441.0),\n",
       " (Timestamp('2021-04-28 00:00:00'), 1, 541964.0),\n",
       " (Timestamp('2021-04-29 00:00:00'), 1, 534059.0),\n",
       " (Timestamp('2021-04-30 00:00:00'), 1, 554725.0),\n",
       " (Timestamp('2021-05-01 00:00:00'), 1, 150794.0),\n",
       " (Timestamp('2021-05-02 00:00:00'), 1, 104336.0),\n",
       " (Timestamp('2021-05-03 00:00:00'), 1, 488993.0),\n",
       " (Timestamp('2021-05-04 00:00:00'), 1, 505947.0),\n",
       " (Timestamp('2021-05-05 00:00:00'), 1, 538782.0),\n",
       " (Timestamp('2021-05-06 00:00:00'), 1, 522757.0),\n",
       " (Timestamp('2021-05-07 00:00:00'), 1, 533129.0),\n",
       " (Timestamp('2021-05-08 00:00:00'), 1, 294009.0),\n",
       " (Timestamp('2021-05-09 00:00:00'), 1, 111760.0),\n",
       " (Timestamp('2021-05-10 00:00:00'), 1, 528089.0),\n",
       " (Timestamp('2021-05-13 00:00:00'), 1, 543249.0),\n",
       " (Timestamp('2021-05-14 00:00:00'), 1, 474326.0),\n",
       " (Timestamp('2021-05-15 00:00:00'), 1, 284300.0),\n",
       " (Timestamp('2021-05-16 00:00:00'), 1, 110422.0),\n",
       " (Timestamp('2021-05-17 00:00:00'), 1, 532642.0),\n",
       " (Timestamp('2021-05-18 00:00:00'), 1, 544906.0),\n",
       " (Timestamp('2021-05-19 00:00:00'), 1, 552616.0),\n",
       " (Timestamp('2021-05-20 00:00:00'), 1, 544395.0),\n",
       " (Timestamp('2021-05-21 00:00:00'), 1, 506306.0),\n",
       " (Timestamp('2021-05-22 00:00:00'), 1, 134538.0),\n",
       " (Timestamp('2021-05-23 00:00:00'), 1, 59584.0),\n",
       " (Timestamp('2021-05-24 00:00:00'), 1, 133669.0),\n",
       " (Timestamp('2021-05-25 00:00:00'), 1, 103349.0),\n",
       " (Timestamp('2021-05-26 00:00:00'), 1, 400600.0),\n",
       " (Timestamp('2021-05-27 00:00:00'), 1, 399001.0),\n",
       " (Timestamp('2021-05-28 00:00:00'), 1, 420226.0),\n",
       " (Timestamp('2021-05-29 00:00:00'), 1, 197576.0),\n",
       " (Timestamp('2021-05-30 00:00:00'), 1, 81840.0),\n",
       " (Timestamp('2021-05-31 00:00:00'), 1, 490133.0),\n",
       " (Timestamp('2021-06-01 00:00:00'), 1, 521441.0),\n",
       " (Timestamp('2021-06-02 00:00:00'), 1, 543681.0),\n",
       " (Timestamp('2021-06-03 00:00:00'), 1, 543315.0),\n",
       " (Timestamp('2021-06-04 00:00:00'), 1, 558038.0),\n",
       " (Timestamp('2021-06-05 00:00:00'), 1, 222156.0),\n",
       " (Timestamp('2021-06-06 00:00:00'), 1, 98201.0),\n",
       " (Timestamp('2021-06-07 00:00:00'), 1, 556978.0),\n",
       " (Timestamp('2021-06-08 00:00:00'), 1, 563683.0),\n",
       " (Timestamp('2021-06-09 00:00:00'), 1, 551383.0),\n",
       " (Timestamp('2021-06-10 00:00:00'), 1, 557426.0),\n",
       " (Timestamp('2021-06-11 00:00:00'), 1, 603414.0),\n",
       " (Timestamp('2021-06-12 00:00:00'), 1, 291094.0),\n",
       " (Timestamp('2021-06-13 00:00:00'), 1, 116679.0),\n",
       " (Timestamp('2021-06-14 00:00:00'), 1, 573385.0),\n",
       " (Timestamp('2021-06-15 00:00:00'), 1, 579329.0),\n",
       " (Timestamp('2021-06-16 00:00:00'), 1, 576198.0),\n",
       " (Timestamp('2021-06-17 00:00:00'), 1, 569947.0),\n",
       " (Timestamp('2021-06-18 00:00:00'), 1, 609879.0),\n",
       " (Timestamp('2021-06-19 00:00:00'), 1, 306547.0),\n",
       " (Timestamp('2021-06-20 00:00:00'), 1, 120031.0),\n",
       " (Timestamp('2021-06-21 00:00:00'), 1, 153419.0),\n",
       " (Timestamp('2021-06-22 00:00:00'), 1, 599784.0),\n",
       " (Timestamp('2021-06-23 00:00:00'), 1, 584868.0),\n",
       " (Timestamp('2021-06-24 00:00:00'), 1, 557208.0),\n",
       " (Timestamp('2021-06-25 00:00:00'), 1, 623259.0),\n",
       " (Timestamp('2021-06-26 00:00:00'), 1, 341210.0),\n",
       " (Timestamp('2021-06-27 00:00:00'), 1, 102710.0),\n",
       " (Timestamp('2021-06-28 00:00:00'), 1, 554105.0),\n",
       " (Timestamp('2021-06-29 00:00:00'), 1, 563674.0),\n",
       " (Timestamp('2021-06-30 00:00:00'), 1, 565504.0),\n",
       " (Timestamp('2021-07-01 00:00:00'), 1, 581673.0),\n",
       " (Timestamp('2021-07-02 00:00:00'), 1, 615391.0),\n",
       " (Timestamp('2021-07-03 00:00:00'), 1, 367575.0),\n",
       " (Timestamp('2021-07-04 00:00:00'), 1, 150003.0),\n",
       " (Timestamp('2021-07-05 00:00:00'), 1, 617420.0),\n",
       " (Timestamp('2021-07-06 00:00:00'), 1, 623459.0),\n",
       " (Timestamp('2021-07-07 00:00:00'), 1, 577958.0),\n",
       " (Timestamp('2021-07-08 00:00:00'), 1, 594335.0),\n",
       " (Timestamp('2021-07-09 00:00:00'), 1, 271070.0),\n",
       " (Timestamp('2021-07-10 00:00:00'), 1, 368422.0),\n",
       " (Timestamp('2021-07-11 00:00:00'), 1, 163154.0),\n",
       " (Timestamp('2021-07-12 00:00:00'), 1, 551808.0),\n",
       " (Timestamp('2021-07-13 00:00:00'), 1, 629883.0),\n",
       " (Timestamp('2021-07-14 00:00:00'), 1, 615639.0),\n",
       " (Timestamp('2021-07-15 00:00:00'), 1, 507815.0),\n",
       " (Timestamp('2021-07-16 00:00:00'), 1, 655378.0),\n",
       " (Timestamp('2021-07-17 00:00:00'), 1, 390580.0),\n",
       " (Timestamp('2021-07-18 00:00:00'), 1, 146364.0),\n",
       " (Timestamp('2021-07-19 00:00:00'), 1, 624048.0),\n",
       " (Timestamp('2021-07-20 00:00:00'), 1, 646452.0),\n",
       " (Timestamp('2021-07-21 00:00:00'), 1, 640168.0),\n",
       " (Timestamp('2021-07-22 00:00:00'), 1, 639521.0),\n",
       " (Timestamp('2021-07-23 00:00:00'), 1, 667771.0),\n",
       " (Timestamp('2021-07-24 00:00:00'), 1, 371634.0),\n",
       " (Timestamp('2021-07-25 00:00:00'), 1, 141257.0),\n",
       " (Timestamp('2021-07-26 00:00:00'), 1, 638768.0),\n",
       " (Timestamp('2021-07-27 00:00:00'), 1, 639794.0),\n",
       " (Timestamp('2021-07-28 00:00:00'), 1, 616686.0),\n",
       " (Timestamp('2021-07-29 00:00:00'), 1, 624607.0),\n",
       " (Timestamp('2021-07-30 00:00:00'), 1, 661074.0),\n",
       " (Timestamp('2021-07-31 00:00:00'), 1, 361896.0),\n",
       " (Timestamp('2021-08-01 00:00:00'), 1, 158051.0),\n",
       " (Timestamp('2021-08-02 00:00:00'), 1, 679563.0),\n",
       " (Timestamp('2021-08-03 00:00:00'), 1, 679744.0),\n",
       " (Timestamp('2021-08-04 00:00:00'), 1, 690260.0),\n",
       " (Timestamp('2021-08-05 00:00:00'), 1, 708659.0),\n",
       " (Timestamp('2021-08-06 00:00:00'), 1, 769360.0),\n",
       " (Timestamp('2021-08-07 00:00:00'), 1, 493222.0),\n",
       " (Timestamp('2021-08-08 00:00:00'), 1, 124467.0),\n",
       " (Timestamp('2021-08-09 00:00:00'), 1, 603177.0),\n",
       " (Timestamp('2021-08-10 00:00:00'), 1, 712515.0),\n",
       " (Timestamp('2021-08-11 00:00:00'), 1, 729346.0),\n",
       " (Timestamp('2021-08-12 00:00:00'), 1, 744449.0),\n",
       " (Timestamp('2021-08-13 00:00:00'), 1, 781188.0),\n",
       " (Timestamp('2021-08-14 00:00:00'), 1, 452690.0),\n",
       " (Timestamp('2021-08-15 00:00:00'), 1, 201988.0),\n",
       " (Timestamp('2021-08-16 00:00:00'), 1, 239858.0),\n",
       " (Timestamp('2021-08-17 00:00:00'), 1, 754294.0),\n",
       " (Timestamp('2021-08-18 00:00:00'), 1, 785866.0),\n",
       " (Timestamp('2021-08-19 00:00:00'), 1, 695436.0),\n",
       " (Timestamp('2021-08-20 00:00:00'), 1, 789319.0),\n",
       " (Timestamp('2021-08-21 00:00:00'), 1, 436538.0),\n",
       " (Timestamp('2021-08-22 00:00:00'), 1, 205347.0),\n",
       " (Timestamp('2021-08-23 00:00:00'), 1, 736491.0),\n",
       " (Timestamp('2021-08-24 00:00:00'), 1, 760098.0),\n",
       " (Timestamp('2021-08-25 00:00:00'), 1, 770097.0),\n",
       " (Timestamp('2021-08-26 00:00:00'), 1, 771512.0),\n",
       " (Timestamp('2021-08-27 00:00:00'), 1, 793107.0),\n",
       " (Timestamp('2021-08-28 00:00:00'), 1, 456928.0),\n",
       " (Timestamp('2021-08-29 00:00:00'), 1, 211520.0),\n",
       " (Timestamp('2021-08-30 00:00:00'), 1, 761757.0),\n",
       " (Timestamp('2021-08-31 00:00:00'), 1, 776118.0),\n",
       " (Timestamp('2021-09-01 00:00:00'), 1, 673045.0),\n",
       " (Timestamp('2021-09-02 00:00:00'), 1, 696279.0),\n",
       " (Timestamp('2021-09-03 00:00:00'), 1, 832866.0),\n",
       " (Timestamp('2021-09-04 00:00:00'), 1, 456162.0),\n",
       " (Timestamp('2021-09-05 00:00:00'), 1, 198844.0),\n",
       " (Timestamp('2021-09-06 00:00:00'), 1, 821729.0),\n",
       " (Timestamp('2021-09-07 00:00:00'), 1, 639064.0),\n",
       " (Timestamp('2021-09-08 00:00:00'), 1, 614335.0),\n",
       " (Timestamp('2021-09-09 00:00:00'), 1, 745729.0),\n",
       " (Timestamp('2021-09-10 00:00:00'), 1, 696602.0),\n",
       " (Timestamp('2021-09-11 00:00:00'), 1, 405638.0),\n",
       " (Timestamp('2021-09-12 00:00:00'), 1, 18620.0),\n",
       " (Timestamp('2021-09-13 00:00:00'), 1, 801791.0),\n",
       " (Timestamp('2021-09-14 00:00:00'), 1, 844077.0),\n",
       " (Timestamp('2021-09-15 00:00:00'), 1, 811557.0),\n",
       " (Timestamp('2021-09-16 00:00:00'), 1, 851123.0),\n",
       " (Timestamp('2021-09-17 00:00:00'), 1, 881013.0),\n",
       " (Timestamp('2021-09-18 00:00:00'), 1, 525989.0),\n",
       " (Timestamp('2021-09-19 00:00:00'), 1, 209942.0),\n",
       " (Timestamp('2021-09-20 00:00:00'), 1, 809783.0),\n",
       " (Timestamp('2021-09-21 00:00:00'), 1, 871575.0),\n",
       " (Timestamp('2021-09-22 00:00:00'), 1, 818477.0),\n",
       " (Timestamp('2021-09-23 00:00:00'), 1, 845545.0),\n",
       " (Timestamp('2021-09-24 00:00:00'), 1, 896613.0),\n",
       " (Timestamp('2021-09-25 00:00:00'), 1, 516037.0),\n",
       " (Timestamp('2021-09-26 00:00:00'), 1, 239172.0),\n",
       " (Timestamp('2021-09-30 00:00:00'), 1, 772300.0),\n",
       " (Timestamp('2021-10-01 00:00:00'), 1, 914131.0),\n",
       " (Timestamp('2021-10-02 00:00:00'), 1, 473945.0),\n",
       " (Timestamp('2021-10-03 00:00:00'), 1, 215701.0),\n",
       " (Timestamp('2021-10-04 00:00:00'), 1, 906086.0),\n",
       " (Timestamp('2021-10-05 00:00:00'), 1, 953255.0),\n",
       " (Timestamp('2021-10-06 00:00:00'), 1, 940673.0),\n",
       " (Timestamp('2021-10-07 00:00:00'), 1, 13677.0),\n",
       " (Timestamp('2021-10-08 00:00:00'), 1, 7331.0),\n",
       " (Timestamp('2021-10-09 00:00:00'), 1, 16536.0),\n",
       " (Timestamp('2021-10-10 00:00:00'), 1, 3501.0),\n",
       " (Timestamp('2021-10-11 00:00:00'), 1, 6507.0),\n",
       " (Timestamp('2021-10-12 00:00:00'), 1, 963183.0),\n",
       " (Timestamp('2021-10-13 00:00:00'), 1, 930961.0),\n",
       " (Timestamp('2021-10-14 00:00:00'), 1, 929089.0),\n",
       " (Timestamp('2021-10-15 00:00:00'), 1, 989237.0),\n",
       " (Timestamp('2021-10-16 00:00:00'), 1, 608366.0),\n",
       " (Timestamp('2021-10-17 00:00:00'), 1, 255101.0),\n",
       " (Timestamp('2021-10-18 00:00:00'), 1, 944001.0),\n",
       " (Timestamp('2021-10-19 00:00:00'), 1, 941259.0)]"
      ]
     },
     "execution_count": 115,
     "metadata": {},
     "output_type": "execute_result"
    }
   ],
   "source": [
    "filas_tren"
   ]
  },
  {
   "cell_type": "code",
   "execution_count": null,
   "id": "83e4f03b",
   "metadata": {},
   "outputs": [
    {
     "data": {
      "text/plain": [
       "315"
      ]
     },
     "execution_count": 116,
     "metadata": {},
     "output_type": "execute_result"
    }
   ],
   "source": [
    "cursor.executemany(insertar_tren, filas_tren)"
   ]
  },
  {
   "cell_type": "code",
   "execution_count": null,
   "id": "53ae30f5",
   "metadata": {},
   "outputs": [],
   "source": [
    "conexion.commit()"
   ]
  },
  {
   "cell_type": "code",
   "execution_count": null,
   "id": "cf9fb2b5",
   "metadata": {},
   "outputs": [],
   "source": [
    "insertar_colectivo = \"\"\"\n",
    "INSERT INTO colectivo (fecha, tipoTransporte, cantidad)\n",
    "VALUES (%s, %s, %s)\n",
    "\"\"\""
   ]
  },
  {
   "cell_type": "code",
   "execution_count": null,
   "id": "fa7979d0",
   "metadata": {},
   "outputs": [],
   "source": [
    "filas_colectivo = [tuple(colectivo.iloc[i].values) for i in range(colectivo.shape[0])]"
   ]
  },
  {
   "cell_type": "code",
   "execution_count": null,
   "id": "67f7312f",
   "metadata": {},
   "outputs": [
    {
     "data": {
      "text/plain": [
       "318"
      ]
     },
     "execution_count": 119,
     "metadata": {},
     "output_type": "execute_result"
    }
   ],
   "source": [
    "cursor.executemany(insertar_colectivo, filas_colectivo)"
   ]
  },
  {
   "cell_type": "code",
   "execution_count": null,
   "id": "b388019f",
   "metadata": {},
   "outputs": [],
   "source": [
    "conexion.commit()"
   ]
  },
  {
   "cell_type": "code",
   "execution_count": null,
   "id": "61f0b496",
   "metadata": {},
   "outputs": [],
   "source": [
    "joined_tables = \"\"\"\n",
    "select subte.fecha, subte.tipoTransporte, subte.cantidad,\n",
    "tren.tipoTransporte, tren.cantidad,\n",
    "colectivo.tipoTransporte, colectivo.cantidad\n",
    "from subte\n",
    "join tren\n",
    "on subte.fecha = tren.fecha\n",
    "join colectivo\n",
    "on subte.fecha = colectivo.fecha;\n",
    "\"\"\""
   ]
  },
  {
   "cell_type": "code",
   "execution_count": null,
   "id": "f97c6786",
   "metadata": {},
   "outputs": [
    {
     "data": {
      "text/plain": [
       "188"
      ]
     },
     "execution_count": 126,
     "metadata": {},
     "output_type": "execute_result"
    }
   ],
   "source": [
    "cursor.execute(joined_tables)"
   ]
  },
  {
   "cell_type": "code",
   "execution_count": null,
   "id": "15c0f64f",
   "metadata": {},
   "outputs": [],
   "source": [
    "new_df = pd.DataFrame(columns=['fecha', 'subte', 'cantidad_subte', 'tren', 'cantidad_tren', \n",
    "                               'colectivo', 'cantidad_colectivo'])"
   ]
  },
  {
   "cell_type": "code",
   "execution_count": null,
   "id": "a13346ea",
   "metadata": {},
   "outputs": [],
   "source": [
    "for idx, val in enumerate(cursor):\n",
    "    new_df.loc[idx] = val"
   ]
  },
  {
   "cell_type": "code",
   "execution_count": null,
   "id": "a7db615a",
   "metadata": {},
   "outputs": [
    {
     "data": {
      "text/html": [
       "<div>\n",
       "<style scoped>\n",
       "    .dataframe tbody tr th:only-of-type {\n",
       "        vertical-align: middle;\n",
       "    }\n",
       "\n",
       "    .dataframe tbody tr th {\n",
       "        vertical-align: top;\n",
       "    }\n",
       "\n",
       "    .dataframe thead th {\n",
       "        text-align: right;\n",
       "    }\n",
       "</style>\n",
       "<table border=\"1\" class=\"dataframe\">\n",
       "  <thead>\n",
       "    <tr style=\"text-align: right;\">\n",
       "      <th></th>\n",
       "      <th>fecha</th>\n",
       "      <th>subte</th>\n",
       "      <th>cantidad_subte</th>\n",
       "      <th>tren</th>\n",
       "      <th>cantidad_tren</th>\n",
       "      <th>colectivo</th>\n",
       "      <th>cantidad_colectivo</th>\n",
       "    </tr>\n",
       "  </thead>\n",
       "  <tbody>\n",
       "    <tr>\n",
       "      <th>0</th>\n",
       "      <td>2020-12-11</td>\n",
       "      <td>3</td>\n",
       "      <td>183398.0</td>\n",
       "      <td>1</td>\n",
       "      <td>571729.0</td>\n",
       "      <td>2</td>\n",
       "      <td>2479450.0</td>\n",
       "    </tr>\n",
       "    <tr>\n",
       "      <th>1</th>\n",
       "      <td>2020-12-12</td>\n",
       "      <td>3</td>\n",
       "      <td>102781.0</td>\n",
       "      <td>1</td>\n",
       "      <td>324752.0</td>\n",
       "      <td>2</td>\n",
       "      <td>1767150.0</td>\n",
       "    </tr>\n",
       "    <tr>\n",
       "      <th>2</th>\n",
       "      <td>2020-12-13</td>\n",
       "      <td>3</td>\n",
       "      <td>40472.0</td>\n",
       "      <td>1</td>\n",
       "      <td>107034.0</td>\n",
       "      <td>2</td>\n",
       "      <td>924709.0</td>\n",
       "    </tr>\n",
       "    <tr>\n",
       "      <th>3</th>\n",
       "      <td>2020-12-14</td>\n",
       "      <td>3</td>\n",
       "      <td>177083.0</td>\n",
       "      <td>1</td>\n",
       "      <td>584492.0</td>\n",
       "      <td>2</td>\n",
       "      <td>2436950.0</td>\n",
       "    </tr>\n",
       "    <tr>\n",
       "      <th>4</th>\n",
       "      <td>2020-12-15</td>\n",
       "      <td>3</td>\n",
       "      <td>175625.0</td>\n",
       "      <td>1</td>\n",
       "      <td>572220.0</td>\n",
       "      <td>2</td>\n",
       "      <td>2456860.0</td>\n",
       "    </tr>\n",
       "    <tr>\n",
       "      <th>...</th>\n",
       "      <td>...</td>\n",
       "      <td>...</td>\n",
       "      <td>...</td>\n",
       "      <td>...</td>\n",
       "      <td>...</td>\n",
       "      <td>...</td>\n",
       "      <td>...</td>\n",
       "    </tr>\n",
       "    <tr>\n",
       "      <th>183</th>\n",
       "      <td>2021-10-14</td>\n",
       "      <td>3</td>\n",
       "      <td>525582.0</td>\n",
       "      <td>1</td>\n",
       "      <td>929089.0</td>\n",
       "      <td>2</td>\n",
       "      <td>3799120.0</td>\n",
       "    </tr>\n",
       "    <tr>\n",
       "      <th>184</th>\n",
       "      <td>2021-10-15</td>\n",
       "      <td>3</td>\n",
       "      <td>525513.0</td>\n",
       "      <td>1</td>\n",
       "      <td>989237.0</td>\n",
       "      <td>2</td>\n",
       "      <td>4021970.0</td>\n",
       "    </tr>\n",
       "    <tr>\n",
       "      <th>185</th>\n",
       "      <td>2021-10-16</td>\n",
       "      <td>3</td>\n",
       "      <td>283811.0</td>\n",
       "      <td>1</td>\n",
       "      <td>608366.0</td>\n",
       "      <td>2</td>\n",
       "      <td>2568440.0</td>\n",
       "    </tr>\n",
       "    <tr>\n",
       "      <th>186</th>\n",
       "      <td>2021-10-17</td>\n",
       "      <td>3</td>\n",
       "      <td>163059.0</td>\n",
       "      <td>1</td>\n",
       "      <td>255101.0</td>\n",
       "      <td>2</td>\n",
       "      <td>1562570.0</td>\n",
       "    </tr>\n",
       "    <tr>\n",
       "      <th>187</th>\n",
       "      <td>2021-10-18</td>\n",
       "      <td>3</td>\n",
       "      <td>508730.0</td>\n",
       "      <td>1</td>\n",
       "      <td>944001.0</td>\n",
       "      <td>2</td>\n",
       "      <td>3615210.0</td>\n",
       "    </tr>\n",
       "  </tbody>\n",
       "</table>\n",
       "<p>188 rows × 7 columns</p>\n",
       "</div>"
      ],
      "text/plain": [
       "          fecha  subte  cantidad_subte  tren  cantidad_tren  colectivo  \\\n",
       "0    2020-12-11      3        183398.0     1       571729.0          2   \n",
       "1    2020-12-12      3        102781.0     1       324752.0          2   \n",
       "2    2020-12-13      3         40472.0     1       107034.0          2   \n",
       "3    2020-12-14      3        177083.0     1       584492.0          2   \n",
       "4    2020-12-15      3        175625.0     1       572220.0          2   \n",
       "..          ...    ...             ...   ...            ...        ...   \n",
       "183  2021-10-14      3        525582.0     1       929089.0          2   \n",
       "184  2021-10-15      3        525513.0     1       989237.0          2   \n",
       "185  2021-10-16      3        283811.0     1       608366.0          2   \n",
       "186  2021-10-17      3        163059.0     1       255101.0          2   \n",
       "187  2021-10-18      3        508730.0     1       944001.0          2   \n",
       "\n",
       "     cantidad_colectivo  \n",
       "0             2479450.0  \n",
       "1             1767150.0  \n",
       "2              924709.0  \n",
       "3             2436950.0  \n",
       "4             2456860.0  \n",
       "..                  ...  \n",
       "183           3799120.0  \n",
       "184           4021970.0  \n",
       "185           2568440.0  \n",
       "186           1562570.0  \n",
       "187           3615210.0  \n",
       "\n",
       "[188 rows x 7 columns]"
      ]
     },
     "execution_count": 128,
     "metadata": {},
     "output_type": "execute_result"
    }
   ],
   "source": [
    "new_df"
   ]
  },
  {
   "cell_type": "code",
   "execution_count": null,
   "id": "b67fdd55",
   "metadata": {},
   "outputs": [],
   "source": []
  }
 ],
 "metadata": {
  "kernelspec": {
   "display_name": "Python 3 (ipykernel)",
   "language": "python",
   "name": "python3"
  },
  "language_info": {
   "codemirror_mode": {
    "name": "ipython",
    "version": 3
   },
   "file_extension": ".py",
   "mimetype": "text/x-python",
   "name": "python",
   "nbconvert_exporter": "python",
   "pygments_lexer": "ipython3",
   "version": "3.10.1"
  }
 },
 "nbformat": 4,
 "nbformat_minor": 5
}
