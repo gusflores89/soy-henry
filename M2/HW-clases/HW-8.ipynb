{
 "cells": [
  {
   "attachments": {},
   "cell_type": "markdown",
   "metadata": {},
   "source": [
    "1. Bajar el CSV de Oferta Gastronómica desde Buenos Aires Data (https://cdn.buenosaires.gob.ar/datosabiertos/datasets/ente-de-turismo/oferta-establecimientos-gastronomicos/oferta_gastronomica.csv). Idealmente hacer esto con Python.\n",
    "2. Crear una tabla con los siguientes campos: id_local, nombre, categoria, direccion, barrio, comuna, para posteriormente poblarla con los datos bajados, utilzando el conector desde el script de Python."
   ]
  },
  {
   "cell_type": "code",
   "execution_count": 56,
   "metadata": {},
   "outputs": [],
   "source": [
    "import pandas as pd\n",
    "import pymysql"
   ]
  },
  {
   "cell_type": "code",
   "execution_count": 57,
   "metadata": {},
   "outputs": [],
   "source": [
    "url = \"https://cdn.buenosaires.gob.ar/datosabiertos/datasets/ente-de-turismo/oferta-establecimientos-gastronomicos/oferta_gastronomica.csv\""
   ]
  },
  {
   "cell_type": "code",
   "execution_count": 58,
   "metadata": {},
   "outputs": [
    {
     "data": {
      "text/html": [
       "<div>\n",
       "<style scoped>\n",
       "    .dataframe tbody tr th:only-of-type {\n",
       "        vertical-align: middle;\n",
       "    }\n",
       "\n",
       "    .dataframe tbody tr th {\n",
       "        vertical-align: top;\n",
       "    }\n",
       "\n",
       "    .dataframe thead th {\n",
       "        text-align: right;\n",
       "    }\n",
       "</style>\n",
       "<table border=\"1\" class=\"dataframe\">\n",
       "  <thead>\n",
       "    <tr style=\"text-align: right;\">\n",
       "      <th></th>\n",
       "      <th>id</th>\n",
       "      <th>nombre</th>\n",
       "      <th>categoria</th>\n",
       "      <th>direccion_completa</th>\n",
       "      <th>barrio</th>\n",
       "      <th>comuna</th>\n",
       "    </tr>\n",
       "  </thead>\n",
       "  <tbody>\n",
       "    <tr>\n",
       "      <th>0</th>\n",
       "      <td>1602</td>\n",
       "      <td>GUANTANAMERA</td>\n",
       "      <td>RESTAURANTE</td>\n",
       "      <td>MOREAU DE JUSTO, ALICIA AV. 2092</td>\n",
       "      <td>Puerto Madero</td>\n",
       "      <td>Comuna 1</td>\n",
       "    </tr>\n",
       "    <tr>\n",
       "      <th>1</th>\n",
       "      <td>676</td>\n",
       "      <td>1843 VINACOTECA</td>\n",
       "      <td>VINERIA</td>\n",
       "      <td>HUMBERTO 1º 1843</td>\n",
       "      <td>San Cristobal</td>\n",
       "      <td>Comuna 3</td>\n",
       "    </tr>\n",
       "    <tr>\n",
       "      <th>2</th>\n",
       "      <td>487</td>\n",
       "      <td>2080 EXPRESS</td>\n",
       "      <td>RESTAURANTE</td>\n",
       "      <td>JURAMENTO AV. 2080</td>\n",
       "      <td>Belgrano</td>\n",
       "      <td>Comuna 13</td>\n",
       "    </tr>\n",
       "    <tr>\n",
       "      <th>3</th>\n",
       "      <td>2737</td>\n",
       "      <td>22</td>\n",
       "      <td>CAFE</td>\n",
       "      <td>MURGUIONDO 4188</td>\n",
       "      <td>Villa Lugano</td>\n",
       "      <td>Comuna 8</td>\n",
       "    </tr>\n",
       "    <tr>\n",
       "      <th>4</th>\n",
       "      <td>2</td>\n",
       "      <td>4 EN 2 I</td>\n",
       "      <td>RESTAURANTE</td>\n",
       "      <td>BORGES, JORGE LUIS 2095</td>\n",
       "      <td>Palermo</td>\n",
       "      <td>Comuna 14</td>\n",
       "    </tr>\n",
       "    <tr>\n",
       "      <th>...</th>\n",
       "      <td>...</td>\n",
       "      <td>...</td>\n",
       "      <td>...</td>\n",
       "      <td>...</td>\n",
       "      <td>...</td>\n",
       "      <td>...</td>\n",
       "    </tr>\n",
       "    <tr>\n",
       "      <th>2818</th>\n",
       "      <td>893</td>\n",
       "      <td>ZOE PIZZA &amp; CAFE</td>\n",
       "      <td>RESTAURANTE</td>\n",
       "      <td>AZCUENAGA 796</td>\n",
       "      <td>Balvanera</td>\n",
       "      <td>Comuna 3</td>\n",
       "    </tr>\n",
       "    <tr>\n",
       "      <th>2819</th>\n",
       "      <td>2546</td>\n",
       "      <td>ZOMBI</td>\n",
       "      <td>RESTAURANTE</td>\n",
       "      <td>URUGUAY 142</td>\n",
       "      <td>San Nicolas</td>\n",
       "      <td>Comuna 1</td>\n",
       "    </tr>\n",
       "    <tr>\n",
       "      <th>2820</th>\n",
       "      <td>1521</td>\n",
       "      <td>ZONA</td>\n",
       "      <td>RESTAURANTE</td>\n",
       "      <td>11 DE SEPTIEMBRE DE 1888 3900</td>\n",
       "      <td>NuÃƒÂ±ez</td>\n",
       "      <td>Comuna 13</td>\n",
       "    </tr>\n",
       "    <tr>\n",
       "      <th>2821</th>\n",
       "      <td>894</td>\n",
       "      <td>ZOO BAR</td>\n",
       "      <td>RESTAURANTE</td>\n",
       "      <td>TUCUMAN 2002</td>\n",
       "      <td>Balvanera</td>\n",
       "      <td>Comuna 3</td>\n",
       "    </tr>\n",
       "    <tr>\n",
       "      <th>2822</th>\n",
       "      <td>2854</td>\n",
       "      <td>Angelito</td>\n",
       "      <td>BAR</td>\n",
       "      <td>NaN</td>\n",
       "      <td>Villa Crespo</td>\n",
       "      <td>Comuna 15</td>\n",
       "    </tr>\n",
       "  </tbody>\n",
       "</table>\n",
       "<p>2823 rows × 6 columns</p>\n",
       "</div>"
      ],
      "text/plain": [
       "        id            nombre    categoria                direccion_completa  \\\n",
       "0     1602      GUANTANAMERA  RESTAURANTE  MOREAU DE JUSTO, ALICIA AV. 2092   \n",
       "1      676   1843 VINACOTECA      VINERIA                  HUMBERTO 1º 1843   \n",
       "2      487      2080 EXPRESS  RESTAURANTE                JURAMENTO AV. 2080   \n",
       "3     2737                22         CAFE                   MURGUIONDO 4188   \n",
       "4        2          4 EN 2 I  RESTAURANTE           BORGES, JORGE LUIS 2095   \n",
       "...    ...               ...          ...                               ...   \n",
       "2818   893  ZOE PIZZA & CAFE  RESTAURANTE                     AZCUENAGA 796   \n",
       "2819  2546             ZOMBI  RESTAURANTE                       URUGUAY 142   \n",
       "2820  1521              ZONA  RESTAURANTE     11 DE SEPTIEMBRE DE 1888 3900   \n",
       "2821   894           ZOO BAR  RESTAURANTE                      TUCUMAN 2002   \n",
       "2822  2854          Angelito          BAR                               NaN   \n",
       "\n",
       "             barrio     comuna  \n",
       "0     Puerto Madero   Comuna 1  \n",
       "1     San Cristobal   Comuna 3  \n",
       "2          Belgrano  Comuna 13  \n",
       "3      Villa Lugano   Comuna 8  \n",
       "4           Palermo  Comuna 14  \n",
       "...             ...        ...  \n",
       "2818      Balvanera   Comuna 3  \n",
       "2819    San Nicolas   Comuna 1  \n",
       "2820       NuÃƒÂ±ez  Comuna 13  \n",
       "2821      Balvanera   Comuna 3  \n",
       "2822   Villa Crespo  Comuna 15  \n",
       "\n",
       "[2823 rows x 6 columns]"
      ]
     },
     "execution_count": 58,
     "metadata": {},
     "output_type": "execute_result"
    }
   ],
   "source": [
    "oferta_gastronomica = pd.read_csv(url)\n",
    "oferta_gastronomica.drop([\"long\", \"lat\", \"cocina\", \"ambientacion\", \"telefono\", \"mail\", \"horario\", \"codigo_postal\", \"calle_nombre\", \"calle_altura\", \"calle_cruce\", \"codigo_postal_argentino\"], inplace = True, axis=1)\n",
    "oferta_gastronomica"
   ]
  },
  {
   "cell_type": "code",
   "execution_count": 59,
   "metadata": {},
   "outputs": [
    {
     "name": "stdout",
     "output_type": "stream",
     "text": [
      "<class 'pandas.core.frame.DataFrame'>\n",
      "RangeIndex: 2823 entries, 0 to 2822\n",
      "Data columns (total 6 columns):\n",
      " #   Column              Non-Null Count  Dtype \n",
      "---  ------              --------------  ----- \n",
      " 0   id                  2823 non-null   int64 \n",
      " 1   nombre              2823 non-null   object\n",
      " 2   categoria           2707 non-null   object\n",
      " 3   direccion_completa  2822 non-null   object\n",
      " 4   barrio              2823 non-null   object\n",
      " 5   comuna              2823 non-null   object\n",
      "dtypes: int64(1), object(5)\n",
      "memory usage: 132.5+ KB\n"
     ]
    }
   ],
   "source": [
    "oferta_gastronomica.info()"
   ]
  },
  {
   "cell_type": "code",
   "execution_count": 60,
   "metadata": {},
   "outputs": [
    {
     "name": "stdout",
     "output_type": "stream",
     "text": [
      "<class 'pandas.core.frame.DataFrame'>\n",
      "Int64Index: 2707 entries, 0 to 2822\n",
      "Data columns (total 6 columns):\n",
      " #   Column              Non-Null Count  Dtype \n",
      "---  ------              --------------  ----- \n",
      " 0   id                  2707 non-null   int64 \n",
      " 1   nombre              2707 non-null   object\n",
      " 2   categoria           2707 non-null   object\n",
      " 3   direccion_completa  2706 non-null   object\n",
      " 4   barrio              2707 non-null   object\n",
      " 5   comuna              2707 non-null   object\n",
      "dtypes: int64(1), object(5)\n",
      "memory usage: 148.0+ KB\n"
     ]
    }
   ],
   "source": [
    "oferta_gastronomica = oferta_gastronomica.loc[oferta_gastronomica[\"categoria\"].notna()]\n",
    "oferta_gastronomica.info()"
   ]
  },
  {
   "cell_type": "code",
   "execution_count": 61,
   "metadata": {},
   "outputs": [
    {
     "data": {
      "text/html": [
       "<div>\n",
       "<style scoped>\n",
       "    .dataframe tbody tr th:only-of-type {\n",
       "        vertical-align: middle;\n",
       "    }\n",
       "\n",
       "    .dataframe tbody tr th {\n",
       "        vertical-align: top;\n",
       "    }\n",
       "\n",
       "    .dataframe thead th {\n",
       "        text-align: right;\n",
       "    }\n",
       "</style>\n",
       "<table border=\"1\" class=\"dataframe\">\n",
       "  <thead>\n",
       "    <tr style=\"text-align: right;\">\n",
       "      <th></th>\n",
       "      <th>id</th>\n",
       "      <th>nombre</th>\n",
       "      <th>categoria</th>\n",
       "      <th>direccion_completa</th>\n",
       "      <th>barrio</th>\n",
       "      <th>comuna</th>\n",
       "    </tr>\n",
       "  </thead>\n",
       "  <tbody>\n",
       "    <tr>\n",
       "      <th>0</th>\n",
       "      <td>1602</td>\n",
       "      <td>GUANTANAMERA</td>\n",
       "      <td>RESTAURANTE</td>\n",
       "      <td>MOREAU DE JUSTO, ALICIA AV. 2092</td>\n",
       "      <td>Puerto Madero</td>\n",
       "      <td>Comuna 1</td>\n",
       "    </tr>\n",
       "    <tr>\n",
       "      <th>1</th>\n",
       "      <td>676</td>\n",
       "      <td>1843 VINACOTECA</td>\n",
       "      <td>VINERIA</td>\n",
       "      <td>HUMBERTO 1º 1843</td>\n",
       "      <td>San Cristobal</td>\n",
       "      <td>Comuna 3</td>\n",
       "    </tr>\n",
       "    <tr>\n",
       "      <th>2</th>\n",
       "      <td>487</td>\n",
       "      <td>2080 EXPRESS</td>\n",
       "      <td>RESTAURANTE</td>\n",
       "      <td>JURAMENTO AV. 2080</td>\n",
       "      <td>Belgrano</td>\n",
       "      <td>Comuna 13</td>\n",
       "    </tr>\n",
       "    <tr>\n",
       "      <th>3</th>\n",
       "      <td>2737</td>\n",
       "      <td>22</td>\n",
       "      <td>CAFE</td>\n",
       "      <td>MURGUIONDO 4188</td>\n",
       "      <td>Villa Lugano</td>\n",
       "      <td>Comuna 8</td>\n",
       "    </tr>\n",
       "    <tr>\n",
       "      <th>4</th>\n",
       "      <td>2</td>\n",
       "      <td>4 EN 2 I</td>\n",
       "      <td>RESTAURANTE</td>\n",
       "      <td>BORGES, JORGE LUIS 2095</td>\n",
       "      <td>Palermo</td>\n",
       "      <td>Comuna 14</td>\n",
       "    </tr>\n",
       "  </tbody>\n",
       "</table>\n",
       "</div>"
      ],
      "text/plain": [
       "     id           nombre    categoria                direccion_completa  \\\n",
       "0  1602     GUANTANAMERA  RESTAURANTE  MOREAU DE JUSTO, ALICIA AV. 2092   \n",
       "1   676  1843 VINACOTECA      VINERIA                  HUMBERTO 1º 1843   \n",
       "2   487     2080 EXPRESS  RESTAURANTE                JURAMENTO AV. 2080   \n",
       "3  2737               22         CAFE                   MURGUIONDO 4188   \n",
       "4     2         4 EN 2 I  RESTAURANTE           BORGES, JORGE LUIS 2095   \n",
       "\n",
       "          barrio     comuna  \n",
       "0  Puerto Madero   Comuna 1  \n",
       "1  San Cristobal   Comuna 3  \n",
       "2       Belgrano  Comuna 13  \n",
       "3   Villa Lugano   Comuna 8  \n",
       "4        Palermo  Comuna 14  "
      ]
     },
     "execution_count": 61,
     "metadata": {},
     "output_type": "execute_result"
    }
   ],
   "source": [
    "oferta_gastronomica.head()"
   ]
  },
  {
   "cell_type": "code",
   "execution_count": 62,
   "metadata": {},
   "outputs": [],
   "source": [
    "nombre = oferta_gastronomica[\"nombre\"]\n",
    "categoria = oferta_gastronomica[\"categoria\"]\n",
    "direccion = oferta_gastronomica[\"direccion_completa\"]\n",
    "barrio = oferta_gastronomica[\"barrio\"]\n",
    "comuna = oferta_gastronomica[\"comuna\"]\n",
    "entradas = [nombre, categoria, direccion, barrio, comuna]"
   ]
  },
  {
   "cell_type": "code",
   "execution_count": 63,
   "metadata": {},
   "outputs": [],
   "source": [
    "conexion = pymysql.connect(\n",
    "    host=\"localhost\",\n",
    "    user = \"root\",\n",
    "    password = \"root\"\n",
    ")"
   ]
  },
  {
   "cell_type": "code",
   "execution_count": 64,
   "metadata": {},
   "outputs": [],
   "source": [
    "cursor = conexion.cursor()"
   ]
  },
  {
   "cell_type": "code",
   "execution_count": 65,
   "metadata": {},
   "outputs": [
    {
     "data": {
      "text/plain": [
       "1"
      ]
     },
     "execution_count": 65,
     "metadata": {},
     "output_type": "execute_result"
    }
   ],
   "source": [
    "crear_db = \"create database if not exists gastro\"\n",
    "cursor.execute(crear_db)"
   ]
  },
  {
   "cell_type": "code",
   "execution_count": 66,
   "metadata": {},
   "outputs": [
    {
     "data": {
      "text/plain": [
       "0"
      ]
     },
     "execution_count": 66,
     "metadata": {},
     "output_type": "execute_result"
    }
   ],
   "source": [
    "cursor.execute(\"use gastro\")"
   ]
  },
  {
   "cell_type": "code",
   "execution_count": 68,
   "metadata": {},
   "outputs": [
    {
     "ename": "OperationalError",
     "evalue": "(1050, \"Table 'locales' already exists\")",
     "output_type": "error",
     "traceback": [
      "\u001b[1;31m---------------------------------------------------------------------------\u001b[0m",
      "\u001b[1;31mOperationalError\u001b[0m                          Traceback (most recent call last)",
      "Cell \u001b[1;32mIn[68], line 2\u001b[0m\n\u001b[0;32m      1\u001b[0m create_table \u001b[39m=\u001b[39m \u001b[39m\"\"\"\u001b[39m\u001b[39mcreate table locales (nombre varchar(50) not null, categoria varchar(30), direccion varchar(200), barrio varchar(100), comuna varchar(20))\u001b[39m\u001b[39m\"\"\"\u001b[39m\n\u001b[1;32m----> 2\u001b[0m cursor\u001b[39m.\u001b[39;49mexecute(create_table)\n",
      "File \u001b[1;32mc:\\Users\\Tamara Campos\\AppData\\Local\\Programs\\Python\\Python310\\lib\\site-packages\\pymysql\\cursors.py:148\u001b[0m, in \u001b[0;36mCursor.execute\u001b[1;34m(self, query, args)\u001b[0m\n\u001b[0;32m    144\u001b[0m     \u001b[39mpass\u001b[39;00m\n\u001b[0;32m    146\u001b[0m query \u001b[39m=\u001b[39m \u001b[39mself\u001b[39m\u001b[39m.\u001b[39mmogrify(query, args)\n\u001b[1;32m--> 148\u001b[0m result \u001b[39m=\u001b[39m \u001b[39mself\u001b[39;49m\u001b[39m.\u001b[39;49m_query(query)\n\u001b[0;32m    149\u001b[0m \u001b[39mself\u001b[39m\u001b[39m.\u001b[39m_executed \u001b[39m=\u001b[39m query\n\u001b[0;32m    150\u001b[0m \u001b[39mreturn\u001b[39;00m result\n",
      "File \u001b[1;32mc:\\Users\\Tamara Campos\\AppData\\Local\\Programs\\Python\\Python310\\lib\\site-packages\\pymysql\\cursors.py:310\u001b[0m, in \u001b[0;36mCursor._query\u001b[1;34m(self, q)\u001b[0m\n\u001b[0;32m    308\u001b[0m \u001b[39mself\u001b[39m\u001b[39m.\u001b[39m_last_executed \u001b[39m=\u001b[39m q\n\u001b[0;32m    309\u001b[0m \u001b[39mself\u001b[39m\u001b[39m.\u001b[39m_clear_result()\n\u001b[1;32m--> 310\u001b[0m conn\u001b[39m.\u001b[39;49mquery(q)\n\u001b[0;32m    311\u001b[0m \u001b[39mself\u001b[39m\u001b[39m.\u001b[39m_do_get_result()\n\u001b[0;32m    312\u001b[0m \u001b[39mreturn\u001b[39;00m \u001b[39mself\u001b[39m\u001b[39m.\u001b[39mrowcount\n",
      "File \u001b[1;32mc:\\Users\\Tamara Campos\\AppData\\Local\\Programs\\Python\\Python310\\lib\\site-packages\\pymysql\\connections.py:548\u001b[0m, in \u001b[0;36mConnection.query\u001b[1;34m(self, sql, unbuffered)\u001b[0m\n\u001b[0;32m    546\u001b[0m     sql \u001b[39m=\u001b[39m sql\u001b[39m.\u001b[39mencode(\u001b[39mself\u001b[39m\u001b[39m.\u001b[39mencoding, \u001b[39m\"\u001b[39m\u001b[39msurrogateescape\u001b[39m\u001b[39m\"\u001b[39m)\n\u001b[0;32m    547\u001b[0m \u001b[39mself\u001b[39m\u001b[39m.\u001b[39m_execute_command(COMMAND\u001b[39m.\u001b[39mCOM_QUERY, sql)\n\u001b[1;32m--> 548\u001b[0m \u001b[39mself\u001b[39m\u001b[39m.\u001b[39m_affected_rows \u001b[39m=\u001b[39m \u001b[39mself\u001b[39;49m\u001b[39m.\u001b[39;49m_read_query_result(unbuffered\u001b[39m=\u001b[39;49munbuffered)\n\u001b[0;32m    549\u001b[0m \u001b[39mreturn\u001b[39;00m \u001b[39mself\u001b[39m\u001b[39m.\u001b[39m_affected_rows\n",
      "File \u001b[1;32mc:\\Users\\Tamara Campos\\AppData\\Local\\Programs\\Python\\Python310\\lib\\site-packages\\pymysql\\connections.py:775\u001b[0m, in \u001b[0;36mConnection._read_query_result\u001b[1;34m(self, unbuffered)\u001b[0m\n\u001b[0;32m    773\u001b[0m \u001b[39melse\u001b[39;00m:\n\u001b[0;32m    774\u001b[0m     result \u001b[39m=\u001b[39m MySQLResult(\u001b[39mself\u001b[39m)\n\u001b[1;32m--> 775\u001b[0m     result\u001b[39m.\u001b[39;49mread()\n\u001b[0;32m    776\u001b[0m \u001b[39mself\u001b[39m\u001b[39m.\u001b[39m_result \u001b[39m=\u001b[39m result\n\u001b[0;32m    777\u001b[0m \u001b[39mif\u001b[39;00m result\u001b[39m.\u001b[39mserver_status \u001b[39mis\u001b[39;00m \u001b[39mnot\u001b[39;00m \u001b[39mNone\u001b[39;00m:\n",
      "File \u001b[1;32mc:\\Users\\Tamara Campos\\AppData\\Local\\Programs\\Python\\Python310\\lib\\site-packages\\pymysql\\connections.py:1156\u001b[0m, in \u001b[0;36mMySQLResult.read\u001b[1;34m(self)\u001b[0m\n\u001b[0;32m   1154\u001b[0m \u001b[39mdef\u001b[39;00m \u001b[39mread\u001b[39m(\u001b[39mself\u001b[39m):\n\u001b[0;32m   1155\u001b[0m     \u001b[39mtry\u001b[39;00m:\n\u001b[1;32m-> 1156\u001b[0m         first_packet \u001b[39m=\u001b[39m \u001b[39mself\u001b[39;49m\u001b[39m.\u001b[39;49mconnection\u001b[39m.\u001b[39;49m_read_packet()\n\u001b[0;32m   1158\u001b[0m         \u001b[39mif\u001b[39;00m first_packet\u001b[39m.\u001b[39mis_ok_packet():\n\u001b[0;32m   1159\u001b[0m             \u001b[39mself\u001b[39m\u001b[39m.\u001b[39m_read_ok_packet(first_packet)\n",
      "File \u001b[1;32mc:\\Users\\Tamara Campos\\AppData\\Local\\Programs\\Python\\Python310\\lib\\site-packages\\pymysql\\connections.py:725\u001b[0m, in \u001b[0;36mConnection._read_packet\u001b[1;34m(self, packet_type)\u001b[0m\n\u001b[0;32m    723\u001b[0m     \u001b[39mif\u001b[39;00m \u001b[39mself\u001b[39m\u001b[39m.\u001b[39m_result \u001b[39mis\u001b[39;00m \u001b[39mnot\u001b[39;00m \u001b[39mNone\u001b[39;00m \u001b[39mand\u001b[39;00m \u001b[39mself\u001b[39m\u001b[39m.\u001b[39m_result\u001b[39m.\u001b[39munbuffered_active \u001b[39mis\u001b[39;00m \u001b[39mTrue\u001b[39;00m:\n\u001b[0;32m    724\u001b[0m         \u001b[39mself\u001b[39m\u001b[39m.\u001b[39m_result\u001b[39m.\u001b[39munbuffered_active \u001b[39m=\u001b[39m \u001b[39mFalse\u001b[39;00m\n\u001b[1;32m--> 725\u001b[0m     packet\u001b[39m.\u001b[39;49mraise_for_error()\n\u001b[0;32m    726\u001b[0m \u001b[39mreturn\u001b[39;00m packet\n",
      "File \u001b[1;32mc:\\Users\\Tamara Campos\\AppData\\Local\\Programs\\Python\\Python310\\lib\\site-packages\\pymysql\\protocol.py:221\u001b[0m, in \u001b[0;36mMysqlPacket.raise_for_error\u001b[1;34m(self)\u001b[0m\n\u001b[0;32m    219\u001b[0m \u001b[39mif\u001b[39;00m DEBUG:\n\u001b[0;32m    220\u001b[0m     \u001b[39mprint\u001b[39m(\u001b[39m\"\u001b[39m\u001b[39merrno =\u001b[39m\u001b[39m\"\u001b[39m, errno)\n\u001b[1;32m--> 221\u001b[0m err\u001b[39m.\u001b[39;49mraise_mysql_exception(\u001b[39mself\u001b[39;49m\u001b[39m.\u001b[39;49m_data)\n",
      "File \u001b[1;32mc:\\Users\\Tamara Campos\\AppData\\Local\\Programs\\Python\\Python310\\lib\\site-packages\\pymysql\\err.py:143\u001b[0m, in \u001b[0;36mraise_mysql_exception\u001b[1;34m(data)\u001b[0m\n\u001b[0;32m    141\u001b[0m \u001b[39mif\u001b[39;00m errorclass \u001b[39mis\u001b[39;00m \u001b[39mNone\u001b[39;00m:\n\u001b[0;32m    142\u001b[0m     errorclass \u001b[39m=\u001b[39m InternalError \u001b[39mif\u001b[39;00m errno \u001b[39m<\u001b[39m \u001b[39m1000\u001b[39m \u001b[39melse\u001b[39;00m OperationalError\n\u001b[1;32m--> 143\u001b[0m \u001b[39mraise\u001b[39;00m errorclass(errno, errval)\n",
      "\u001b[1;31mOperationalError\u001b[0m: (1050, \"Table 'locales' already exists\")"
     ]
    }
   ],
   "source": [
    "create_table = \"\"\"create table locales (nombre varchar(50) not null, categoria varchar(30), direccion varchar(200), barrio varchar(100), comuna varchar(20))\"\"\"\n",
    "cursor.execute(create_table)"
   ]
  },
  {
   "cell_type": "code",
   "execution_count": null,
   "metadata": {},
   "outputs": [
    {
     "ename": "TypeError",
     "evalue": "not enough arguments for format string",
     "output_type": "error",
     "traceback": [
      "\u001b[1;31m---------------------------------------------------------------------------\u001b[0m",
      "\u001b[1;31mTypeError\u001b[0m                                 Traceback (most recent call last)",
      "Cell \u001b[1;32mIn[55], line 2\u001b[0m\n\u001b[0;32m      1\u001b[0m query \u001b[39m=\u001b[39m \u001b[39m\"\u001b[39m\u001b[39mINSERT INTO gastronomia(nombre, categoria, direccion, barrio, comuna) VALUES (\u001b[39m\u001b[39m%s\u001b[39;00m\u001b[39m,\u001b[39m\u001b[39m%s\u001b[39;00m\u001b[39m,\u001b[39m\u001b[39m%s\u001b[39;00m\u001b[39m,\u001b[39m\u001b[39m%s\u001b[39;00m\u001b[39m,\u001b[39m\u001b[39m%s\u001b[39;00m\u001b[39m)\u001b[39m\u001b[39m\"\u001b[39m\n\u001b[1;32m----> 2\u001b[0m cursor\u001b[39m.\u001b[39;49mexecutemany(query, entradas)\n",
      "File \u001b[1;32mc:\\Users\\Tamara Campos\\AppData\\Local\\Programs\\Python\\Python310\\lib\\site-packages\\pymysql\\cursors.py:173\u001b[0m, in \u001b[0;36mCursor.executemany\u001b[1;34m(self, query, args)\u001b[0m\n\u001b[0;32m    171\u001b[0m     q_postfix \u001b[39m=\u001b[39m m\u001b[39m.\u001b[39mgroup(\u001b[39m3\u001b[39m) \u001b[39mor\u001b[39;00m \u001b[39m\"\u001b[39m\u001b[39m\"\u001b[39m\n\u001b[0;32m    172\u001b[0m     \u001b[39massert\u001b[39;00m q_values[\u001b[39m0\u001b[39m] \u001b[39m==\u001b[39m \u001b[39m\"\u001b[39m\u001b[39m(\u001b[39m\u001b[39m\"\u001b[39m \u001b[39mand\u001b[39;00m q_values[\u001b[39m-\u001b[39m\u001b[39m1\u001b[39m] \u001b[39m==\u001b[39m \u001b[39m\"\u001b[39m\u001b[39m)\u001b[39m\u001b[39m\"\u001b[39m\n\u001b[1;32m--> 173\u001b[0m     \u001b[39mreturn\u001b[39;00m \u001b[39mself\u001b[39;49m\u001b[39m.\u001b[39;49m_do_execute_many(\n\u001b[0;32m    174\u001b[0m         q_prefix,\n\u001b[0;32m    175\u001b[0m         q_values,\n\u001b[0;32m    176\u001b[0m         q_postfix,\n\u001b[0;32m    177\u001b[0m         args,\n\u001b[0;32m    178\u001b[0m         \u001b[39mself\u001b[39;49m\u001b[39m.\u001b[39;49mmax_stmt_length,\n\u001b[0;32m    179\u001b[0m         \u001b[39mself\u001b[39;49m\u001b[39m.\u001b[39;49m_get_db()\u001b[39m.\u001b[39;49mencoding,\n\u001b[0;32m    180\u001b[0m     )\n\u001b[0;32m    182\u001b[0m \u001b[39mself\u001b[39m\u001b[39m.\u001b[39mrowcount \u001b[39m=\u001b[39m \u001b[39msum\u001b[39m(\u001b[39mself\u001b[39m\u001b[39m.\u001b[39mexecute(query, arg) \u001b[39mfor\u001b[39;00m arg \u001b[39min\u001b[39;00m args)\n\u001b[0;32m    183\u001b[0m \u001b[39mreturn\u001b[39;00m \u001b[39mself\u001b[39m\u001b[39m.\u001b[39mrowcount\n",
      "File \u001b[1;32mc:\\Users\\Tamara Campos\\AppData\\Local\\Programs\\Python\\Python310\\lib\\site-packages\\pymysql\\cursors.py:196\u001b[0m, in \u001b[0;36mCursor._do_execute_many\u001b[1;34m(self, prefix, values, postfix, args, max_stmt_length, encoding)\u001b[0m\n\u001b[0;32m    194\u001b[0m sql \u001b[39m=\u001b[39m \u001b[39mbytearray\u001b[39m(prefix)\n\u001b[0;32m    195\u001b[0m args \u001b[39m=\u001b[39m \u001b[39miter\u001b[39m(args)\n\u001b[1;32m--> 196\u001b[0m v \u001b[39m=\u001b[39m values \u001b[39m%\u001b[39;49m escape(\u001b[39mnext\u001b[39;49m(args), conn)\n\u001b[0;32m    197\u001b[0m \u001b[39mif\u001b[39;00m \u001b[39misinstance\u001b[39m(v, \u001b[39mstr\u001b[39m):\n\u001b[0;32m    198\u001b[0m     v \u001b[39m=\u001b[39m v\u001b[39m.\u001b[39mencode(encoding, \u001b[39m\"\u001b[39m\u001b[39msurrogateescape\u001b[39m\u001b[39m\"\u001b[39m)\n",
      "\u001b[1;31mTypeError\u001b[0m: not enough arguments for format string"
     ]
    }
   ],
   "source": [
    "query = \"INSERT INTO gastronomia(nombre, categoria, direccion, barrio, comuna) VALUES (%s,%s,%s,%s,%s)\"\n",
    "cursor.executemany(query, entradas)"
   ]
  },
  {
   "cell_type": "code",
   "execution_count": null,
   "metadata": {},
   "outputs": [],
   "source": []
  },
  {
   "attachments": {},
   "cell_type": "markdown",
   "metadata": {},
   "source": [
    "¿Cuál es el barrio con mayor cantidad de Pubs?"
   ]
  },
  {
   "attachments": {},
   "cell_type": "markdown",
   "metadata": {},
   "source": [
    "Obtener la cantidad de locales por categoría"
   ]
  },
  {
   "attachments": {},
   "cell_type": "markdown",
   "metadata": {},
   "source": [
    "Obtener la cantidad de restaurantes por comuna"
   ]
  }
 ],
 "metadata": {
  "kernelspec": {
   "display_name": "Python 3",
   "language": "python",
   "name": "python3"
  },
  "language_info": {
   "codemirror_mode": {
    "name": "ipython",
    "version": 3
   },
   "file_extension": ".py",
   "mimetype": "text/x-python",
   "name": "python",
   "nbconvert_exporter": "python",
   "pygments_lexer": "ipython3",
   "version": "3.10.1"
  },
  "orig_nbformat": 4
 },
 "nbformat": 4,
 "nbformat_minor": 2
}
