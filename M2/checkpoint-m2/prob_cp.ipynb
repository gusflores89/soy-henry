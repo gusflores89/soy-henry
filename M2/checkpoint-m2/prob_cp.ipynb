{
 "cells": [
  {
   "attachments": {},
   "cell_type": "markdown",
   "metadata": {},
   "source": [
    "<p>6) Un jugador tiene dos dados, lanza los dos dados a la vez y suma el resultado obtenido de los dados lanzados, ¿cuál es la suma resultante más probable al momento de lanzar los dos dados? </p>"
   ]
  },
  {
   "cell_type": "code",
   "execution_count": 1,
   "metadata": {},
   "outputs": [
    {
     "name": "stdout",
     "output_type": "stream",
     "text": [
      "La suma mas probable es 7.0  con probabilidad de  0.16666666666666666\n"
     ]
    }
   ],
   "source": [
    "import numpy as np\n",
    "\n",
    "d1 = np.arange(1, 7)\n",
    "d2 = np.arange(1, 7)\n",
    "sumas = np.array([])\n",
    "\n",
    "for el1 in d1:\n",
    "    for el2 in d2:\n",
    "        sumas = np.append(sumas, el1 + el2)\n",
    "\n",
    "moda = np.unique(sumas, return_counts = True)\n",
    "prob = moda[1] / moda[1].sum()\n",
    "\n",
    "index_max = prob.argmax()\n",
    "print(\"La suma mas probable es\", moda[0][index_max], \" con probabilidad de \", prob[index_max])"
   ]
  },
  {
   "attachments": {},
   "cell_type": "markdown",
   "metadata": {},
   "source": [
    "<p>7) Dado un mazo de cartas de la baraja francesa, conocida como de poker, ¿Cuál es la probabilidad de sacar dos cartas rojas si no se hace una reposición de la carta luego de sacar la primera? *La baraja francesa es un conjunto de naipes o cartas, formado por 52 unidades repartidas en cuatro palos: corazones, diamantes, tréboles y picas. No tienen comodínes. </p>"
   ]
  },
  {
   "cell_type": "code",
   "execution_count": 14,
   "metadata": {},
   "outputs": [
    {
     "data": {
      "text/plain": [
       "0.25"
      ]
     },
     "execution_count": 14,
     "metadata": {},
     "output_type": "execute_result"
    }
   ],
   "source": [
    "round(26/52 * 25/51, 2)"
   ]
  },
  {
   "attachments": {},
   "cell_type": "markdown",
   "metadata": {},
   "source": [
    "<p>8) Se tienen 4 canicas blancas y 4 canicas negras dentro de un frasco, luego de manera aleatoria se sacan dos canicas, una detrás de la otra. ¿Cuál es la probabilidad de que ambas sean de un mismo color? </p>"
   ]
  },
  {
   "cell_type": "code",
   "execution_count": 20,
   "metadata": {},
   "outputs": [
    {
     "name": "stdout",
     "output_type": "stream",
     "text": [
      "0.43\n"
     ]
    },
    {
     "data": {
      "text/plain": [
       "0.42857142857142855"
      ]
     },
     "execution_count": 20,
     "metadata": {},
     "output_type": "execute_result"
    }
   ],
   "source": [
    "print(round(((4/8 * 3/7) + (4/8 * 3/7)), 2))\n",
    "(4/8 * 3/7) + (4/8 * 3/7)"
   ]
  },
  {
   "attachments": {},
   "cell_type": "markdown",
   "metadata": {},
   "source": [
    "<p>9) En una cola en el banco, llaman en promedio 2 personas cada 8 minutos. ¿Cuál es la probabilidad de que en esos 8 minutos llamen a 1 persona o más personas? </p>"
   ]
  },
  {
   "cell_type": "code",
   "execution_count": 19,
   "metadata": {},
   "outputs": [
    {
     "data": {
      "text/plain": [
       "0.86"
      ]
     },
     "execution_count": 19,
     "metadata": {},
     "output_type": "execute_result"
    }
   ],
   "source": [
    "tasa = 2/8\n",
    "l1 = 1\n",
    "l2 = 2\n",
    "\n",
    "from scipy.stats import poisson\n",
    "round(1 - poisson.cdf(0, 2), 2)"
   ]
  },
  {
   "attachments": {},
   "cell_type": "markdown",
   "metadata": {},
   "source": [
    "<p>10) En un control de calidad, se tiene que de 65 productos seleccionados, 2 poseen fallas de fabricación, ¿Cuál es la probabilidad de encontrar un producto con fallas si se seleccionan 5 productos? </p>"
   ]
  },
  {
   "cell_type": "code",
   "execution_count": 21,
   "metadata": {},
   "outputs": [
    {
     "data": {
      "text/plain": [
       "0.0"
      ]
     },
     "execution_count": 21,
     "metadata": {},
     "output_type": "execute_result"
    }
   ],
   "source": [
    "k = 5\n",
    "N = 65\n",
    "n = 5\n",
    "r = 2\n",
    "from scipy.stats import hypergeom\n",
    "hypergeom.pmf(k, N, n, r)"
   ]
  }
 ],
 "metadata": {
  "kernelspec": {
   "display_name": "Python 3",
   "language": "python",
   "name": "python3"
  },
  "language_info": {
   "codemirror_mode": {
    "name": "ipython",
    "version": 3
   },
   "file_extension": ".py",
   "mimetype": "text/x-python",
   "name": "python",
   "nbconvert_exporter": "python",
   "pygments_lexer": "ipython3",
   "version": "3.10.1"
  },
  "orig_nbformat": 4
 },
 "nbformat": 4,
 "nbformat_minor": 2
}
