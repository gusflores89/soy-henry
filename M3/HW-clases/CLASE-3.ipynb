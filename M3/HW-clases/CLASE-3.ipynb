{
 "cells": [
  {
   "attachments": {},
   "cell_type": "markdown",
   "metadata": {},
   "source": [
    "## Principales Objetivos de Aprendizaje para esta Clase\n",
    "\n",
    "-Entender el concepto de ETL y Outlier\n",
    "\n",
    "## Extracción, Transformación y Carga - ETL\n",
    "\n",
    "Gracias a los procesos ETL es posible que cualquier organización:\n",
    "\n",
    "* Mueva datos desde una o múltiples fuentes.\n",
    "* Reformatee esos datos y los limpie, cuando sea necesario.\n",
    "* Los cargue en otro lugar como una base de datos unificada.\n",
    "* Una vez alojados en un destino, esos datos se analicen.\n",
    "* O, cuando ya están cargados en su ubicación definitiva, se empleen en otro sistema operacional, para apoyar un proceso de negocio."
   ]
  },
  {
   "attachments": {},
   "cell_type": "markdown",
   "metadata": {},
   "source": [
    "### Fase de Extracción\n",
    "\n",
    "Para llevar a cabo el proceso de extracción, primera parte del ETL, hay que seguir los siguientes pasos:\n",
    "\n",
    "* Extraer los datos desde los sistemas de origen.\n",
    "* Analizar los datos extraídos obteniendo un chequeo.\n",
    "* Interpretar este chequeo para verificar que los datos extraídos cumplen la pauta o estructura que se esperaba. Si no fuese así, los datos deberían ser rechazados.\n",
    "* Convertir los datos a un formato preparado para iniciar el proceso de transformación."
   ]
  },
  {
   "attachments": {},
   "cell_type": "markdown",
   "metadata": {},
   "source": [
    "### Fase de Transformación\n",
    "\n",
    "La fase de transformación de un proceso ETL aplica una serie de reglas de negocio o funciones, sobre los datos extraídos para convertirlos en datos que serán cargados. Estas directrices pueden ser declarativas, pueden basarse en excepciones o restricciones pero, para potenciar su pragmatismo y eficacia, hay que asegurarse de que sean:\n",
    "\n",
    "* Declarativas.\n",
    "* Independientes.\n",
    "* Claras.\n",
    "* Inteligibles.\n",
    "* Con una finalidad útil para el negocio."
   ]
  },
  {
   "attachments": {},
   "cell_type": "markdown",
   "metadata": {},
   "source": [
    "## Outliers\n",
    "\n",
    "Un elemento fundamental a descubrir dentro de las tareas de identificación del ruido son los valores atípicos o outliers.\n",
    "Los Outliers son elementos que por su comportamiento se apartan notoriamente del comportamiento general. Esto se puede deber a un error en los datos o a un dato correcto que representa anomalías en la realidad."
   ]
  },
  {
   "attachments": {},
   "cell_type": "markdown",
   "metadata": {},
   "source": [
    "### Diagrama de Caja\n",
    "\n",
    "El Diagrama de Caja permite observar la distribución completa de los datos al mismo tiempo que su mediana y sus cuartiles. También, muestra los elementos que se escapan del universo, los outliers.\n",
    "\n",
    "Rango intercuartílico o IQR: \n",
    "* mínimo = Q1 - 1.5 x IQR\n",
    "* máximo = Q3 + 1.5 x IQR"
   ]
  },
  {
   "attachments": {},
   "cell_type": "markdown",
   "metadata": {},
   "source": [
    "### Regla de las tres sigmas\n",
    "\n",
    "La Regla de las Tres Sigmas se basa en el valor promedio y la desviación estándar para obtener el rango, fuera del cual, podemos asumir que un valor es atípico.\n",
    "\n",
    "* mínimo = Promedio – 3 * Desviación Estándar\n",
    "* máximo = Promedio + 3 * Desviación Estándar"
   ]
  },
  {
   "attachments": {},
   "cell_type": "markdown",
   "metadata": {},
   "source": [
    "### Consideraciones\n",
    "\n",
    "A veces, es la variable la que nos lo indica. Por ejemplo, la asistencia a un curso no puede ser menor que cero o mayor al número de alumnos que tiene el curso."
   ]
  }
 ],
 "metadata": {
  "language_info": {
   "name": "python"
  },
  "orig_nbformat": 4
 },
 "nbformat": 4,
 "nbformat_minor": 2
}
