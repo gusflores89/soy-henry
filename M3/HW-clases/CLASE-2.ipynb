{
 "cells": [
  {
   "attachments": {},
   "cell_type": "markdown",
   "metadata": {},
   "source": [
    "## Principales Objetivos de Aprendizaje para esta Clase\n",
    "\n",
    "-Comprender el concepto de la Calidad del Dato y sus implicaciones\n",
    "-Conocer el concepto del Modelado de Datos"
   ]
  },
  {
   "attachments": {},
   "cell_type": "markdown",
   "metadata": {},
   "source": [
    "## Calidad del Dato"
   ]
  },
  {
   "attachments": {},
   "cell_type": "markdown",
   "metadata": {},
   "source": [
    "### ¿Para qué buscamos la calidad de los datos?\n",
    "\n",
    "* La calidad de datos confiabiliza en análisis.\n",
    "* Si utilizamos datos no confiables podemos llegar a conclusiones erróneas.\n",
    "* Las fuentes son críticas en el proceso de selección de datos.\n",
    "* Existen métodos de control, auditoría, corrección y confiabilización de datos.\n",
    "* Recuperar información perdida o incompleta.\n",
    "* Resolver conflictos en los datos."
   ]
  },
  {
   "attachments": {},
   "cell_type": "markdown",
   "metadata": {},
   "source": [
    "### Definición\n",
    "\n",
    "* Implica transformar los datos y disponibilizarlos.\n",
    "* Los datos de la realidad pueden ser impuros debido a incompletitud, ruido o inconsistencias.\n",
    "* Debemos asegurarnos la fiabilidad del dato, teniendo el camino del dato, es decir, la trazabilidad."
   ]
  },
  {
   "attachments": {},
   "cell_type": "markdown",
   "metadata": {},
   "source": [
    "### Causas de la mala calidad de los datos\n",
    "\n",
    "* Carga de datos en forma manual o Data Entry.\n",
    "* Carga de datos externos sin los recaudos correctos para su adecuación.\n",
    "* Problemas de carga originados en los sistemas transaccionales utilizados como fuente de datos.\n",
    "* Implementación de nuevas aplicaciones en la organización, implica nuevos orígenes de datos, que necesitan ser congruentes con los datos ya existentes.\n",
    "* Cambios en las aplicaciones existentes o migraciones de sus bases de datos."
   ]
  },
  {
   "attachments": {},
   "cell_type": "markdown",
   "metadata": {},
   "source": [
    "## Criterios de la Calidad del dato"
   ]
  },
  {
   "attachments": {},
   "cell_type": "markdown",
   "metadata": {},
   "source": [
    "### Actualización\n",
    "\n",
    "* Los datos deben estar actualizados. Debe existirreferencias de la fecha de confección o de la fecha de última actualización.\n",
    "* Por ejemplo: Información de deuda sin una referencia en cuanto a la fecha de actualización."
   ]
  },
  {
   "attachments": {},
   "cell_type": "markdown",
   "metadata": {},
   "source": [
    "### Completitud\n",
    "\n",
    "* Los datos deben estar completos. Puede parecer obvio pero es una de las situaciones más habituales.\n",
    "* Por Ejemplo: tablas con datos filiatorios y de contacto con campos vacíos aleatoriamente."
   ]
  },
  {
   "attachments": {},
   "cell_type": "markdown",
   "metadata": {},
   "source": [
    "### Fiabilidad\n",
    "\n",
    "* La procedencia y la trazabilidad del dato son características que hacen a la fiabilidad.\n",
    "* Si trabajamos con una tabla de la que no conocemos su procedencia o bien que bajamos de una pagina poco confiable, los datos no serán fiables y nos pueden llevar a análisis erróneos.\n",
    "* De igual manera, si no podemos reconstruir el camino completo del dato desde su captura hasta la actualidad, el conjunto de datos no tiene trazabilidad."
   ]
  },
  {
   "attachments": {},
   "cell_type": "markdown",
   "metadata": {},
   "source": [
    "### Accesibilidad\n",
    "\n",
    "* Los datos deben ser accesibles con bajo nivel de esfuerzo.\n",
    "* Deben estar en lugares previsibles y ser fácilmente ubicables y elegibles.\n",
    "* Ejemplo: Una tabla con nombres de campos numerados: Campo1, Campo2, etc…\n",
    "* Ejemplo 2: Un reporte que se aloja en una ubicación poco habitual."
   ]
  },
  {
   "attachments": {},
   "cell_type": "markdown",
   "metadata": {},
   "source": [
    "### Consistencia\n",
    "\n",
    "* Interna: Calidad de caracteres y de lo que se guarda en los campos.\n",
    "* Externa: Calidad de interdependencia y racionalidad de los campos.\n",
    "* Ejemplo: Las claves primarias y las claves foráneas deben ser consistentes y permitir la relación entre tablas."
   ]
  },
  {
   "attachments": {},
   "cell_type": "markdown",
   "metadata": {},
   "source": [
    "### Hechos y Dimensiones\n",
    "\n",
    "Son tablas dimensionales o maestros, aquellas que contienen información respecto de las entidades que están incluidas en el modelo. Por ejemplo una tabla de clientes, donde se tenga una clave primaria para identificar a cada uno de manera unívoca, y ademas los datos filiatorios, como ser nombre, apellido, fecha de nacimiento ó nacionalidad. Existe un y sólo un registro por cada cliente.\n",
    "Son tablas de hechos aquellas que guardan eventos donde se relacionan las entidades incluidas en el modelo y tambien las métricas asociadas. Por ejemplo una tabla de vetnas, donde se guarda la fecha de la venta, cliente y producto implicados, la sucursal actuante y el monto de la venta realizada. Existe un registro por evento, al cuál se asocian las entidades relacionadas y también una métrica. Consecuentemente, una tabla de hechos puede tambíen reflejar una entidad en sí misma, como el caso de la venta ó una generación de factura.\n",
    "Concluyendo entonces que ambos, hechos y dimensiones, son también entidades."
   ]
  },
  {
   "attachments": {},
   "cell_type": "markdown",
   "metadata": {},
   "source": [
    "## Preparación de los Datos\n",
    "\n",
    "En la preparación de los datos se pueden generar conjuntos de datos mas pequeños que el original. En este sentido es importante la agrupación en «temas» o «familias» de datos.\n",
    "El objetivo es generar «información de calidad» desestimando la información accesoria o redundante.\n",
    "\n",
    "* La etapa de preparación de datos llega a insumir el 90% del trabajo de una tarea de análisis de datos.\n",
    "* Sin la preparación de datos no es posible realizar análisis veraces."
   ]
  },
  {
   "attachments": {},
   "cell_type": "markdown",
   "metadata": {},
   "source": [
    "### Metodología para la preparación y análisis\n",
    "\n",
    "En la etapa de la preparación de datos se procede a la integración, limpieza, transformación, modelado y reportes.\n",
    "\n",
    "Las técnicas de preparación son obligatorias para la incorporación de nuevos datos a nuestras bases, las mismas son: \n",
    "* Integración\n",
    "* Limpieza del ruido\n",
    "* Transformación\n",
    "* Imputación de valores faltantes."
   ]
  },
  {
   "attachments": {},
   "cell_type": "markdown",
   "metadata": {},
   "source": [
    "### Integración de Datos\n",
    "\n",
    "Es el primer paso e implica integrar datos de diferentes fuentes e incorporar los datos a formatos tabulares si no lo estuvieran."
   ]
  },
  {
   "attachments": {},
   "cell_type": "markdown",
   "metadata": {},
   "source": [
    "### Limpieza de Datos\n",
    "\n",
    "Proceso por el cual se discriminan los datos importantes de los accesorios y a la vez los veraces de los erróneos. Luego se procede a desestimar o borrar aquellos datos que no serán utilizados y a validar los que se conservarán."
   ]
  },
  {
   "attachments": {},
   "cell_type": "markdown",
   "metadata": {},
   "source": [
    "### Normalización de Datos\n",
    "\n",
    "En este paso se identifican aquellos valores iguales con notaciones diferentes y se los reescribe de una manera uniforme.\n",
    "Ejemplo: Calle S Martín, Calle Gral. San Martín, Calle José de San Martín…. = Calle Gral. José de San Martín."
   ]
  },
  {
   "attachments": {},
   "cell_type": "markdown",
   "metadata": {},
   "source": [
    "### Imputación de Valores Faltantes\n",
    "\n",
    "La imputación de valores faltantes esta relacionada con la identificación de los casos en donde exista perdida o ausencia de datos. En estos casos será importante realizar acciones de reconstrucción, aunque no siempre es posible resolverlas."
   ]
  },
  {
   "attachments": {},
   "cell_type": "markdown",
   "metadata": {},
   "source": [
    "### Transformación de Datos\n",
    "\n",
    "Este es el momento en que la información nueva será convertida a un formato compatible con base de datos. En este punto es crítico reducir el efecto distorsivo de la transformación."
   ]
  },
  {
   "attachments": {},
   "cell_type": "markdown",
   "metadata": {},
   "source": [
    "### Modelado de Datos\n",
    "\n",
    "Se establecen las relaciones entre los datos, se determinan que entidades contienen datos maestros y cuáles contienen hechos, dando lugar a las dimensiones y las métricas."
   ]
  },
  {
   "attachments": {},
   "cell_type": "markdown",
   "metadata": {},
   "source": [
    "### Claves subrogadas\n",
    "\n",
    "Una clave subrogada es un identificador único que se asigna a cada registro de una tabla. Puede obtenerse a partir de la conjunción de columnas ya preexistentes."
   ]
  },
  {
   "attachments": {},
   "cell_type": "markdown",
   "metadata": {},
   "source": [
    "### Recomendaciones Generales:\n",
    "\n",
    "* Lo simple es mejor.\n",
    "* Evitemos detalles superfluos.\n",
    "* Creemos variables adicionales antes de destruir las originales.\n",
    "* Analicemos los detalles antes de confiar en los resúmenes.\n",
    "* Verificar la precisión de las variables derivadas y las recodificadas."
   ]
  }
 ],
 "metadata": {
  "language_info": {
   "name": "python"
  },
  "orig_nbformat": 4
 },
 "nbformat": 4,
 "nbformat_minor": 2
}
