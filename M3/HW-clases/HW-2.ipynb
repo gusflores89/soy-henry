{
 "cells": [
  {
   "attachments": {},
   "cell_type": "markdown",
   "metadata": {},
   "source": [
    "## Homework\n",
    "\n",
    "Con el objetivo de asegurarse de que la calidad de la información con la que se va a trabajar sea la óptima, es necesario realizar una lista de propuestas de mejora teniendo en cuenta los siguientes puntos:\n",
    "\n",
    "1) ¿Qué tan actualizada está la información? ¿La forma en que se actualiza ó mantiene esa información se puede mejorar?\n",
    "2) ¿Los datos están completos en todas las tablas?\n",
    "3) ¿Se conocen las fuentes de los datos?\n",
    "4) Al integrar éstos datos, es prudente que haya una normalización respecto de nombrar las tablas y sus campos.\n",
    "5) Es importante revisar la consistencia de los datos: \n",
    "    - ¿Se pueden relacionar todas las tablas al modelo? \n",
    "    - ¿Cuáles son las tablas de hechos y las tablas dimensionales o maestros? \n",
    "    - ¿Podemos hacer esa separación en los datos que tenemos (tablas de hecho y dimensiones)? \n",
    "    - ¿Hay claves duplicadas? \n",
    "    - ¿Cuáles son variables cualitativas y cuáles son cuantitativas? \n",
    "    - ¿Qué acciones podemos aplicar sobre las mismas?"
   ]
  },
  {
   "attachments": {},
   "cell_type": "markdown",
   "metadata": {},
   "source": [
    "1) Esta desactualizada, la ultima modificación fue en 2020 (tabla gasto).\n",
    "2) Hay datos en algunas tablas incompletos.\n",
    "3) No, no se conocen.\n",
    "4) Si.\n",
    "5) Si se pueden relacionar. Hay claves duplicadas en algunas tablas (tabla empleados)."
   ]
  },
  {
   "attachments": {},
   "cell_type": "markdown",
   "metadata": {},
   "source": [
    "### Limpieza, Valores faltantes\n",
    "\n",
    "6) Normalizar los nombres de los campos y colocar el tipo de dato adecuado para cada uno en cada una de las tablas. Descartar columnas que consideres que no tienen relevancia.\n",
    "7) Buscar valores faltantes y campos inconsistentes en las tablas sucursal, proveedor, empleado y cliente. De encontrarlos, deberás corregirlos o desestimarlos. Propone y realiza una acción correctiva sobre ese problema.\n",
    "8) Chequear la consistencia de los campos precio y cantidad de la tabla de ventas.\n",
    "9) Chequear que no haya claves duplicadas, y de encontrarla en alguna de las tablas, proponer una solución."
   ]
  },
  {
   "attachments": {},
   "cell_type": "markdown",
   "metadata": {},
   "source": [
    "### Normalización\n",
    "\n",
    "10) Generar dos nuevas tablas a partir de la tabla 'empelado' que contengan las entidades Cargo y Sector.\n",
    "11) Generar una nueva tabla a partir de la tabla 'producto' que contenga la entidad Tipo de Producto."
   ]
  },
  {
   "attachments": {},
   "cell_type": "markdown",
   "metadata": {},
   "source": [
    "### Sugerencia:"
   ]
  },
  {
   "attachments": {},
   "cell_type": "markdown",
   "metadata": {},
   "source": [
    "#### Instrucción INSERT:\n",
    "\n",
    "Es posible usarla a partir del resultado de otra consulta. Por ejemplo:\n",
    "\n",
    "```SQL\n",
    "INSERT INTO cargo (Cargo) \n",
    "SELECT DISTINCT Cargo \n",
    "FROM empleado \n",
    "ORDER BY Cargo;\n",
    "```"
   ]
  },
  {
   "attachments": {},
   "cell_type": "markdown",
   "metadata": {},
   "source": [
    "#### Instrucción UPDATE:\n",
    "\n",
    "Es posible usarla a partir del resultado del resultado de una consulta de la tabla a modificar y otra/s tabla/s. Por ejemplo:\n",
    "\n",
    "```SQL\n",
    "UPDATE empleado e JOIN cargo c \n",
    "    ON (c.Cargo = e.Cargo)\n",
    "SET e.IdCargo = c.IdCargo;\n",
    "```"
   ]
  }
 ],
 "metadata": {
  "language_info": {
   "name": "python"
  },
  "orig_nbformat": 4
 },
 "nbformat": 4,
 "nbformat_minor": 2
}
